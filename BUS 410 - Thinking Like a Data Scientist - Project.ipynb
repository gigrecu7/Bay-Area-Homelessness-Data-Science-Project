{
 "cells": [
  {
   "cell_type": "code",
   "execution_count": 3,
   "metadata": {},
   "outputs": [],
   "source": [
    "import pandas as pd\n",
    "import numpy as np\n",
    "import matplotlib.pyplot as plt\n",
    "import seaborn as sns\n"
   ]
  },
  {
   "cell_type": "code",
   "execution_count": 4,
   "metadata": {},
   "outputs": [],
   "source": [
    "df = pd.read_csv('/Users/iliegrecu/Downloads/homelessdata.csv',encoding='latin1', low_memory=False)"
   ]
  },
  {
   "cell_type": "markdown",
   "metadata": {},
   "source": [
    "# PART 1 - Data Exploration"
   ]
  },
  {
   "cell_type": "code",
   "execution_count": 5,
   "metadata": {},
   "outputs": [
    {
     "name": "stdout",
     "output_type": "stream",
     "text": [
      "                                    Agencies Agency Name Clients Age Tier  \\\n",
      "0                                   AbS - Abode Services         45 to 54   \n",
      "1                                   AbS - Abode Services         45 to 54   \n",
      "2                                   AbS - Abode Services         45 to 54   \n",
      "3                     BACS - Bay Area Community Services         25 to 34   \n",
      "4                     BACS - Bay Area Community Services         35 to 44   \n",
      "...                                                  ...              ...   \n",
      "77796  BOSS - Building Opportunities for Self Suffici...      65 or Above   \n",
      "77797  BOSS - Building Opportunities for Self Suffici...      65 or Above   \n",
      "77798          ACHCD - Housing and Community Development         25 to 34   \n",
      "77799          ACHCD - Housing and Community Development      65 or Above   \n",
      "77800          ACHCD - Housing and Community Development         45 to 54   \n",
      "\n",
      "             Clients Ethnicity               Clients Race  \\\n",
      "0              Hispanic/Latino                      White   \n",
      "1      Non-Hispanic/Non-Latino  Black or African American   \n",
      "2      Non-Hispanic/Non-Latino                      White   \n",
      "3      Non-Hispanic/Non-Latino                      White   \n",
      "4              Hispanic/Latino                      White   \n",
      "...                        ...                        ...   \n",
      "77796  Non-Hispanic/Non-Latino                      White   \n",
      "77797  Non-Hispanic/Non-Latino                      White   \n",
      "77798  Non-Hispanic/Non-Latino  Black or African American   \n",
      "77799  Non-Hispanic/Non-Latino  Black or African American   \n",
      "77800          Hispanic/Latino                      White   \n",
      "\n",
      "      Clients Veteran Status Clients Unique Identifier  \\\n",
      "0                         No                 75B1DC866   \n",
      "1                         No                 179156ACC   \n",
      "2                         No                 F89729E91   \n",
      "3                         No                 C1A7A95B1   \n",
      "4                         No                 B47E8D743   \n",
      "...                      ...                       ...   \n",
      "77796                     No                 4C5173628   \n",
      "77797                     No                 4C5173628   \n",
      "77798                     No                 1C9B22C19   \n",
      "77799                     No                 3A68BACDC   \n",
      "77800                     No                 779D418BC   \n",
      "\n",
      "      Enrollments Days from Project Start to Move-In  \\\n",
      "0                                                NaN   \n",
      "1                                                NaN   \n",
      "2                                                NaN   \n",
      "3                                                NaN   \n",
      "4                                                NaN   \n",
      "...                                              ...   \n",
      "77796                                             -2   \n",
      "77797                                             -2   \n",
      "77798                                              0   \n",
      "77799                                              0   \n",
      "77800                                              0   \n",
      "\n",
      "       Enrollments Days in Project Enrollments Project Start Date  \\\n",
      "0                              299                      6/29/2018   \n",
      "1                              231                      6/29/2018   \n",
      "2                              139                      6/29/2018   \n",
      "3                              103                      6/29/2018   \n",
      "4                              103                      6/29/2018   \n",
      "...                            ...                            ...   \n",
      "77796                         7030                       8/7/1994   \n",
      "77797                         9026                       8/7/1994   \n",
      "77798                         9483                       5/7/1993   \n",
      "77799                         9483                       5/7/1993   \n",
      "77800                         9493                      4/27/1993   \n",
      "\n",
      "      Enrollments Project Exit Date  ... Entry Screen SSDI (Yes / No)  \\\n",
      "0                               NaN  ...                           No   \n",
      "1                         2/15/2019  ...                           No   \n",
      "2                        11/15/2018  ...                           No   \n",
      "3                        10/10/2018  ...                           No   \n",
      "4                        10/10/2018  ...                           No   \n",
      "...                             ...  ...                          ...   \n",
      "77796                     11/5/2013  ...                           No   \n",
      "77797                           NaN  ...                           No   \n",
      "77798                           NaN  ...                           No   \n",
      "77799                           NaN  ...                           No   \n",
      "77800                           NaN  ...                           No   \n",
      "\n",
      "      Entry Screen SSI (Yes / No) Entry Screen TANF (Yes / No)  \\\n",
      "0                              No                           No   \n",
      "1                              No                           No   \n",
      "2                              No                           No   \n",
      "3                              No                           No   \n",
      "4                             Yes                           No   \n",
      "...                           ...                          ...   \n",
      "77796                         Yes                           No   \n",
      "77797                         Yes                           No   \n",
      "77798                         Yes                           No   \n",
      "77799                          No                          Yes   \n",
      "77800                          No                           No   \n",
      "\n",
      "      Entry Screen Non-Cash Benefit from Any Source  \\\n",
      "0                                               Yes   \n",
      "1                                                No   \n",
      "2                                               Yes   \n",
      "3                                               Yes   \n",
      "4                                                No   \n",
      "...                                             ...   \n",
      "77796                                            No   \n",
      "77797                                            No   \n",
      "77798                                            No   \n",
      "77799                                           Yes   \n",
      "77800                                            No   \n",
      "\n",
      "      Enrollments Count Children  Enrollments Household Type  \\\n",
      "0                              0  Household without Children   \n",
      "1                              0  Household without Children   \n",
      "2                              0  Household without Children   \n",
      "3                              0  Household without Children   \n",
      "4                              0  Household without Children   \n",
      "...                          ...                         ...   \n",
      "77796                          0  Household without Children   \n",
      "77797                          0  Household without Children   \n",
      "77798                          1     Household with Children   \n",
      "77799                          1     Household with Children   \n",
      "77800                          0  Household without Children   \n",
      "\n",
      "      Enrollments Individual or Family  \\\n",
      "0                           Individual   \n",
      "1                           Individual   \n",
      "2                           Individual   \n",
      "3                           Individual   \n",
      "4                           Individual   \n",
      "...                                ...   \n",
      "77796                       Individual   \n",
      "77797                       Individual   \n",
      "77798                           Family   \n",
      "77799                           Family   \n",
      "77800                       Individual   \n",
      "\n",
      "      Enrollments Average Days from Project Start to Move-In  \\\n",
      "0                                                    NaN       \n",
      "1                                                    NaN       \n",
      "2                                                    NaN       \n",
      "3                                                    NaN       \n",
      "4                                                    NaN       \n",
      "...                                                  ...       \n",
      "77796                                               -2.0       \n",
      "77797                                               -2.0       \n",
      "77798                                                0.0       \n",
      "77799                                                0.0       \n",
      "77800                                                0.0       \n",
      "\n",
      "      Enrollments Average Days in Project  \\\n",
      "0                                     299   \n",
      "1                                     231   \n",
      "2                                     139   \n",
      "3                                     103   \n",
      "4                                     103   \n",
      "...                                   ...   \n",
      "77796                                7030   \n",
      "77797                                9026   \n",
      "77798                                9483   \n",
      "77799                                9483   \n",
      "77800                                9493   \n",
      "\n",
      "      Enrollments Count Chronic Homeless Households  \n",
      "0                                                 0  \n",
      "1                                                 0  \n",
      "2                                                 1  \n",
      "3                                                 1  \n",
      "4                                                 1  \n",
      "...                                             ...  \n",
      "77796                                             0  \n",
      "77797                                             0  \n",
      "77798                                             0  \n",
      "77799                                             0  \n",
      "77800                                             0  \n",
      "\n",
      "[77801 rows x 65 columns]\n"
     ]
    }
   ],
   "source": [
    "print(df)"
   ]
  },
  {
   "cell_type": "code",
   "execution_count": 6,
   "metadata": {
    "scrolled": true
   },
   "outputs": [
    {
     "data": {
      "text/html": [
       "<div>\n",
       "<style scoped>\n",
       "    .dataframe tbody tr th:only-of-type {\n",
       "        vertical-align: middle;\n",
       "    }\n",
       "\n",
       "    .dataframe tbody tr th {\n",
       "        vertical-align: top;\n",
       "    }\n",
       "\n",
       "    .dataframe thead th {\n",
       "        text-align: right;\n",
       "    }\n",
       "</style>\n",
       "<table border=\"1\" class=\"dataframe\">\n",
       "  <thead>\n",
       "    <tr style=\"text-align: right;\">\n",
       "      <th></th>\n",
       "      <th>Agencies Agency Name</th>\n",
       "      <th>Clients Age Tier</th>\n",
       "      <th>Clients Ethnicity</th>\n",
       "      <th>Clients Race</th>\n",
       "      <th>Clients Veteran Status</th>\n",
       "      <th>Clients Unique Identifier</th>\n",
       "      <th>Enrollments Days from Project Start to Move-In</th>\n",
       "      <th>Enrollments Days in Project</th>\n",
       "      <th>Enrollments Project Start Date</th>\n",
       "      <th>Enrollments Project Exit Date</th>\n",
       "      <th>...</th>\n",
       "      <th>Entry Screen SSDI (Yes / No)</th>\n",
       "      <th>Entry Screen SSI (Yes / No)</th>\n",
       "      <th>Entry Screen TANF (Yes / No)</th>\n",
       "      <th>Entry Screen Non-Cash Benefit from Any Source</th>\n",
       "      <th>Enrollments Count Children</th>\n",
       "      <th>Enrollments Household Type</th>\n",
       "      <th>Enrollments Individual or Family</th>\n",
       "      <th>Enrollments Average Days from Project Start to Move-In</th>\n",
       "      <th>Enrollments Average Days in Project</th>\n",
       "      <th>Enrollments Count Chronic Homeless Households</th>\n",
       "    </tr>\n",
       "  </thead>\n",
       "  <tbody>\n",
       "    <tr>\n",
       "      <th>0</th>\n",
       "      <td>AbS - Abode Services</td>\n",
       "      <td>45 to 54</td>\n",
       "      <td>Hispanic/Latino</td>\n",
       "      <td>White</td>\n",
       "      <td>No</td>\n",
       "      <td>75B1DC866</td>\n",
       "      <td>NaN</td>\n",
       "      <td>299</td>\n",
       "      <td>6/29/2018</td>\n",
       "      <td>NaN</td>\n",
       "      <td>...</td>\n",
       "      <td>No</td>\n",
       "      <td>No</td>\n",
       "      <td>No</td>\n",
       "      <td>Yes</td>\n",
       "      <td>0</td>\n",
       "      <td>Household without Children</td>\n",
       "      <td>Individual</td>\n",
       "      <td>NaN</td>\n",
       "      <td>299</td>\n",
       "      <td>0</td>\n",
       "    </tr>\n",
       "    <tr>\n",
       "      <th>1</th>\n",
       "      <td>AbS - Abode Services</td>\n",
       "      <td>45 to 54</td>\n",
       "      <td>Non-Hispanic/Non-Latino</td>\n",
       "      <td>Black or African American</td>\n",
       "      <td>No</td>\n",
       "      <td>179156ACC</td>\n",
       "      <td>NaN</td>\n",
       "      <td>231</td>\n",
       "      <td>6/29/2018</td>\n",
       "      <td>2/15/2019</td>\n",
       "      <td>...</td>\n",
       "      <td>No</td>\n",
       "      <td>No</td>\n",
       "      <td>No</td>\n",
       "      <td>No</td>\n",
       "      <td>0</td>\n",
       "      <td>Household without Children</td>\n",
       "      <td>Individual</td>\n",
       "      <td>NaN</td>\n",
       "      <td>231</td>\n",
       "      <td>0</td>\n",
       "    </tr>\n",
       "    <tr>\n",
       "      <th>2</th>\n",
       "      <td>AbS - Abode Services</td>\n",
       "      <td>45 to 54</td>\n",
       "      <td>Non-Hispanic/Non-Latino</td>\n",
       "      <td>White</td>\n",
       "      <td>No</td>\n",
       "      <td>F89729E91</td>\n",
       "      <td>NaN</td>\n",
       "      <td>139</td>\n",
       "      <td>6/29/2018</td>\n",
       "      <td>11/15/2018</td>\n",
       "      <td>...</td>\n",
       "      <td>No</td>\n",
       "      <td>No</td>\n",
       "      <td>No</td>\n",
       "      <td>Yes</td>\n",
       "      <td>0</td>\n",
       "      <td>Household without Children</td>\n",
       "      <td>Individual</td>\n",
       "      <td>NaN</td>\n",
       "      <td>139</td>\n",
       "      <td>1</td>\n",
       "    </tr>\n",
       "    <tr>\n",
       "      <th>3</th>\n",
       "      <td>BACS - Bay Area Community Services</td>\n",
       "      <td>25 to 34</td>\n",
       "      <td>Non-Hispanic/Non-Latino</td>\n",
       "      <td>White</td>\n",
       "      <td>No</td>\n",
       "      <td>C1A7A95B1</td>\n",
       "      <td>NaN</td>\n",
       "      <td>103</td>\n",
       "      <td>6/29/2018</td>\n",
       "      <td>10/10/2018</td>\n",
       "      <td>...</td>\n",
       "      <td>No</td>\n",
       "      <td>No</td>\n",
       "      <td>No</td>\n",
       "      <td>Yes</td>\n",
       "      <td>0</td>\n",
       "      <td>Household without Children</td>\n",
       "      <td>Individual</td>\n",
       "      <td>NaN</td>\n",
       "      <td>103</td>\n",
       "      <td>1</td>\n",
       "    </tr>\n",
       "    <tr>\n",
       "      <th>4</th>\n",
       "      <td>BACS - Bay Area Community Services</td>\n",
       "      <td>35 to 44</td>\n",
       "      <td>Hispanic/Latino</td>\n",
       "      <td>White</td>\n",
       "      <td>No</td>\n",
       "      <td>B47E8D743</td>\n",
       "      <td>NaN</td>\n",
       "      <td>103</td>\n",
       "      <td>6/29/2018</td>\n",
       "      <td>10/10/2018</td>\n",
       "      <td>...</td>\n",
       "      <td>No</td>\n",
       "      <td>Yes</td>\n",
       "      <td>No</td>\n",
       "      <td>No</td>\n",
       "      <td>0</td>\n",
       "      <td>Household without Children</td>\n",
       "      <td>Individual</td>\n",
       "      <td>NaN</td>\n",
       "      <td>103</td>\n",
       "      <td>1</td>\n",
       "    </tr>\n",
       "    <tr>\n",
       "      <th>...</th>\n",
       "      <td>...</td>\n",
       "      <td>...</td>\n",
       "      <td>...</td>\n",
       "      <td>...</td>\n",
       "      <td>...</td>\n",
       "      <td>...</td>\n",
       "      <td>...</td>\n",
       "      <td>...</td>\n",
       "      <td>...</td>\n",
       "      <td>...</td>\n",
       "      <td>...</td>\n",
       "      <td>...</td>\n",
       "      <td>...</td>\n",
       "      <td>...</td>\n",
       "      <td>...</td>\n",
       "      <td>...</td>\n",
       "      <td>...</td>\n",
       "      <td>...</td>\n",
       "      <td>...</td>\n",
       "      <td>...</td>\n",
       "      <td>...</td>\n",
       "    </tr>\n",
       "    <tr>\n",
       "      <th>77796</th>\n",
       "      <td>BOSS - Building Opportunities for Self Suffici...</td>\n",
       "      <td>65 or Above</td>\n",
       "      <td>Non-Hispanic/Non-Latino</td>\n",
       "      <td>White</td>\n",
       "      <td>No</td>\n",
       "      <td>4C5173628</td>\n",
       "      <td>-2</td>\n",
       "      <td>7030</td>\n",
       "      <td>8/7/1994</td>\n",
       "      <td>11/5/2013</td>\n",
       "      <td>...</td>\n",
       "      <td>No</td>\n",
       "      <td>Yes</td>\n",
       "      <td>No</td>\n",
       "      <td>No</td>\n",
       "      <td>0</td>\n",
       "      <td>Household without Children</td>\n",
       "      <td>Individual</td>\n",
       "      <td>-2.0</td>\n",
       "      <td>7030</td>\n",
       "      <td>0</td>\n",
       "    </tr>\n",
       "    <tr>\n",
       "      <th>77797</th>\n",
       "      <td>BOSS - Building Opportunities for Self Suffici...</td>\n",
       "      <td>65 or Above</td>\n",
       "      <td>Non-Hispanic/Non-Latino</td>\n",
       "      <td>White</td>\n",
       "      <td>No</td>\n",
       "      <td>4C5173628</td>\n",
       "      <td>-2</td>\n",
       "      <td>9026</td>\n",
       "      <td>8/7/1994</td>\n",
       "      <td>NaN</td>\n",
       "      <td>...</td>\n",
       "      <td>No</td>\n",
       "      <td>Yes</td>\n",
       "      <td>No</td>\n",
       "      <td>No</td>\n",
       "      <td>0</td>\n",
       "      <td>Household without Children</td>\n",
       "      <td>Individual</td>\n",
       "      <td>-2.0</td>\n",
       "      <td>9026</td>\n",
       "      <td>0</td>\n",
       "    </tr>\n",
       "    <tr>\n",
       "      <th>77798</th>\n",
       "      <td>ACHCD - Housing and Community Development</td>\n",
       "      <td>25 to 34</td>\n",
       "      <td>Non-Hispanic/Non-Latino</td>\n",
       "      <td>Black or African American</td>\n",
       "      <td>No</td>\n",
       "      <td>1C9B22C19</td>\n",
       "      <td>0</td>\n",
       "      <td>9483</td>\n",
       "      <td>5/7/1993</td>\n",
       "      <td>NaN</td>\n",
       "      <td>...</td>\n",
       "      <td>No</td>\n",
       "      <td>Yes</td>\n",
       "      <td>No</td>\n",
       "      <td>No</td>\n",
       "      <td>1</td>\n",
       "      <td>Household with Children</td>\n",
       "      <td>Family</td>\n",
       "      <td>0.0</td>\n",
       "      <td>9483</td>\n",
       "      <td>0</td>\n",
       "    </tr>\n",
       "    <tr>\n",
       "      <th>77799</th>\n",
       "      <td>ACHCD - Housing and Community Development</td>\n",
       "      <td>65 or Above</td>\n",
       "      <td>Non-Hispanic/Non-Latino</td>\n",
       "      <td>Black or African American</td>\n",
       "      <td>No</td>\n",
       "      <td>3A68BACDC</td>\n",
       "      <td>0</td>\n",
       "      <td>9483</td>\n",
       "      <td>5/7/1993</td>\n",
       "      <td>NaN</td>\n",
       "      <td>...</td>\n",
       "      <td>No</td>\n",
       "      <td>No</td>\n",
       "      <td>Yes</td>\n",
       "      <td>Yes</td>\n",
       "      <td>1</td>\n",
       "      <td>Household with Children</td>\n",
       "      <td>Family</td>\n",
       "      <td>0.0</td>\n",
       "      <td>9483</td>\n",
       "      <td>0</td>\n",
       "    </tr>\n",
       "    <tr>\n",
       "      <th>77800</th>\n",
       "      <td>ACHCD - Housing and Community Development</td>\n",
       "      <td>45 to 54</td>\n",
       "      <td>Hispanic/Latino</td>\n",
       "      <td>White</td>\n",
       "      <td>No</td>\n",
       "      <td>779D418BC</td>\n",
       "      <td>0</td>\n",
       "      <td>9493</td>\n",
       "      <td>4/27/1993</td>\n",
       "      <td>NaN</td>\n",
       "      <td>...</td>\n",
       "      <td>No</td>\n",
       "      <td>No</td>\n",
       "      <td>No</td>\n",
       "      <td>No</td>\n",
       "      <td>0</td>\n",
       "      <td>Household without Children</td>\n",
       "      <td>Individual</td>\n",
       "      <td>0.0</td>\n",
       "      <td>9493</td>\n",
       "      <td>0</td>\n",
       "    </tr>\n",
       "  </tbody>\n",
       "</table>\n",
       "<p>77801 rows × 65 columns</p>\n",
       "</div>"
      ],
      "text/plain": [
       "                                    Agencies Agency Name Clients Age Tier  \\\n",
       "0                                   AbS - Abode Services         45 to 54   \n",
       "1                                   AbS - Abode Services         45 to 54   \n",
       "2                                   AbS - Abode Services         45 to 54   \n",
       "3                     BACS - Bay Area Community Services         25 to 34   \n",
       "4                     BACS - Bay Area Community Services         35 to 44   \n",
       "...                                                  ...              ...   \n",
       "77796  BOSS - Building Opportunities for Self Suffici...      65 or Above   \n",
       "77797  BOSS - Building Opportunities for Self Suffici...      65 or Above   \n",
       "77798          ACHCD - Housing and Community Development         25 to 34   \n",
       "77799          ACHCD - Housing and Community Development      65 or Above   \n",
       "77800          ACHCD - Housing and Community Development         45 to 54   \n",
       "\n",
       "             Clients Ethnicity               Clients Race  \\\n",
       "0              Hispanic/Latino                      White   \n",
       "1      Non-Hispanic/Non-Latino  Black or African American   \n",
       "2      Non-Hispanic/Non-Latino                      White   \n",
       "3      Non-Hispanic/Non-Latino                      White   \n",
       "4              Hispanic/Latino                      White   \n",
       "...                        ...                        ...   \n",
       "77796  Non-Hispanic/Non-Latino                      White   \n",
       "77797  Non-Hispanic/Non-Latino                      White   \n",
       "77798  Non-Hispanic/Non-Latino  Black or African American   \n",
       "77799  Non-Hispanic/Non-Latino  Black or African American   \n",
       "77800          Hispanic/Latino                      White   \n",
       "\n",
       "      Clients Veteran Status Clients Unique Identifier  \\\n",
       "0                         No                 75B1DC866   \n",
       "1                         No                 179156ACC   \n",
       "2                         No                 F89729E91   \n",
       "3                         No                 C1A7A95B1   \n",
       "4                         No                 B47E8D743   \n",
       "...                      ...                       ...   \n",
       "77796                     No                 4C5173628   \n",
       "77797                     No                 4C5173628   \n",
       "77798                     No                 1C9B22C19   \n",
       "77799                     No                 3A68BACDC   \n",
       "77800                     No                 779D418BC   \n",
       "\n",
       "      Enrollments Days from Project Start to Move-In  \\\n",
       "0                                                NaN   \n",
       "1                                                NaN   \n",
       "2                                                NaN   \n",
       "3                                                NaN   \n",
       "4                                                NaN   \n",
       "...                                              ...   \n",
       "77796                                             -2   \n",
       "77797                                             -2   \n",
       "77798                                              0   \n",
       "77799                                              0   \n",
       "77800                                              0   \n",
       "\n",
       "       Enrollments Days in Project Enrollments Project Start Date  \\\n",
       "0                              299                      6/29/2018   \n",
       "1                              231                      6/29/2018   \n",
       "2                              139                      6/29/2018   \n",
       "3                              103                      6/29/2018   \n",
       "4                              103                      6/29/2018   \n",
       "...                            ...                            ...   \n",
       "77796                         7030                       8/7/1994   \n",
       "77797                         9026                       8/7/1994   \n",
       "77798                         9483                       5/7/1993   \n",
       "77799                         9483                       5/7/1993   \n",
       "77800                         9493                      4/27/1993   \n",
       "\n",
       "      Enrollments Project Exit Date  ... Entry Screen SSDI (Yes / No)  \\\n",
       "0                               NaN  ...                           No   \n",
       "1                         2/15/2019  ...                           No   \n",
       "2                        11/15/2018  ...                           No   \n",
       "3                        10/10/2018  ...                           No   \n",
       "4                        10/10/2018  ...                           No   \n",
       "...                             ...  ...                          ...   \n",
       "77796                     11/5/2013  ...                           No   \n",
       "77797                           NaN  ...                           No   \n",
       "77798                           NaN  ...                           No   \n",
       "77799                           NaN  ...                           No   \n",
       "77800                           NaN  ...                           No   \n",
       "\n",
       "      Entry Screen SSI (Yes / No) Entry Screen TANF (Yes / No)  \\\n",
       "0                              No                           No   \n",
       "1                              No                           No   \n",
       "2                              No                           No   \n",
       "3                              No                           No   \n",
       "4                             Yes                           No   \n",
       "...                           ...                          ...   \n",
       "77796                         Yes                           No   \n",
       "77797                         Yes                           No   \n",
       "77798                         Yes                           No   \n",
       "77799                          No                          Yes   \n",
       "77800                          No                           No   \n",
       "\n",
       "      Entry Screen Non-Cash Benefit from Any Source  \\\n",
       "0                                               Yes   \n",
       "1                                                No   \n",
       "2                                               Yes   \n",
       "3                                               Yes   \n",
       "4                                                No   \n",
       "...                                             ...   \n",
       "77796                                            No   \n",
       "77797                                            No   \n",
       "77798                                            No   \n",
       "77799                                           Yes   \n",
       "77800                                            No   \n",
       "\n",
       "      Enrollments Count Children  Enrollments Household Type  \\\n",
       "0                              0  Household without Children   \n",
       "1                              0  Household without Children   \n",
       "2                              0  Household without Children   \n",
       "3                              0  Household without Children   \n",
       "4                              0  Household without Children   \n",
       "...                          ...                         ...   \n",
       "77796                          0  Household without Children   \n",
       "77797                          0  Household without Children   \n",
       "77798                          1     Household with Children   \n",
       "77799                          1     Household with Children   \n",
       "77800                          0  Household without Children   \n",
       "\n",
       "      Enrollments Individual or Family  \\\n",
       "0                           Individual   \n",
       "1                           Individual   \n",
       "2                           Individual   \n",
       "3                           Individual   \n",
       "4                           Individual   \n",
       "...                                ...   \n",
       "77796                       Individual   \n",
       "77797                       Individual   \n",
       "77798                           Family   \n",
       "77799                           Family   \n",
       "77800                       Individual   \n",
       "\n",
       "      Enrollments Average Days from Project Start to Move-In  \\\n",
       "0                                                    NaN       \n",
       "1                                                    NaN       \n",
       "2                                                    NaN       \n",
       "3                                                    NaN       \n",
       "4                                                    NaN       \n",
       "...                                                  ...       \n",
       "77796                                               -2.0       \n",
       "77797                                               -2.0       \n",
       "77798                                                0.0       \n",
       "77799                                                0.0       \n",
       "77800                                                0.0       \n",
       "\n",
       "      Enrollments Average Days in Project  \\\n",
       "0                                     299   \n",
       "1                                     231   \n",
       "2                                     139   \n",
       "3                                     103   \n",
       "4                                     103   \n",
       "...                                   ...   \n",
       "77796                                7030   \n",
       "77797                                9026   \n",
       "77798                                9483   \n",
       "77799                                9483   \n",
       "77800                                9493   \n",
       "\n",
       "      Enrollments Count Chronic Homeless Households  \n",
       "0                                                 0  \n",
       "1                                                 0  \n",
       "2                                                 1  \n",
       "3                                                 1  \n",
       "4                                                 1  \n",
       "...                                             ...  \n",
       "77796                                             0  \n",
       "77797                                             0  \n",
       "77798                                             0  \n",
       "77799                                             0  \n",
       "77800                                             0  \n",
       "\n",
       "[77801 rows x 65 columns]"
      ]
     },
     "execution_count": 6,
     "metadata": {},
     "output_type": "execute_result"
    }
   ],
   "source": [
    "df"
   ]
  },
  {
   "cell_type": "code",
   "execution_count": 7,
   "metadata": {},
   "outputs": [
    {
     "data": {
      "text/plain": [
       "77801"
      ]
     },
     "execution_count": 7,
     "metadata": {},
     "output_type": "execute_result"
    }
   ],
   "source": [
    "len(df)"
   ]
  },
  {
   "cell_type": "code",
   "execution_count": 8,
   "metadata": {},
   "outputs": [
    {
     "data": {
      "text/plain": [
       "65"
      ]
     },
     "execution_count": 8,
     "metadata": {},
     "output_type": "execute_result"
    }
   ],
   "source": [
    "len(df.columns)"
   ]
  },
  {
   "cell_type": "code",
   "execution_count": 9,
   "metadata": {
    "scrolled": true
   },
   "outputs": [
    {
     "data": {
      "text/plain": [
       "Index(['Agencies Agency Name', 'Clients Age Tier', 'Clients Ethnicity',\n",
       "       'Clients Race', 'Clients Veteran Status', 'Clients Unique Identifier',\n",
       "       'Enrollments Days from Project Start to Move-In',\n",
       "       'Enrollments Days in Project', 'Enrollments Project Start Date',\n",
       "       'Enrollments Project Exit Date',\n",
       "       'Entry Screen Residence Prior to Project Entry',\n",
       "       'Inbound Recidivism Appeared Before (Yes / No)',\n",
       "       'Inbound Recidivism Appeared Before In Same Program (Yes / No)',\n",
       "       'Inbound Recidivism Appeared Before with Stable Housing (Yes / No)',\n",
       "       'Inbound Recidivism Days Since Last Exit',\n",
       "       'Outbound Recidivism Appears Again (Yes / No)',\n",
       "       'Outbound Recidivism Appears Again Without Stable Housing (Yes / No)',\n",
       "       'Outbound Recidivism Days Until Next Entry',\n",
       "       'Outbound Recidivism Next Entry Date', 'Program Inventory End Date',\n",
       "       'Program Inventory Start Date', 'Programs Added Date', 'Programs Name',\n",
       "       'Programs Project Type Code',\n",
       "       'Update/Exit Custom Current Program Phase',\n",
       "       'Update/Exit Screen Exit Destination',\n",
       "       'Update/Exit Screen Housed on Exit',\n",
       "       'Update/Exit Screen Housing Status', 'Clients Gender',\n",
       "       'Clients Global Household - Head of Household (HoH)',\n",
       "       'Clients Discharge Status', 'Clients American Indian or Alaska Native',\n",
       "       'Clients Asian', 'Clients Black or African American',\n",
       "       'Clients Native Hawaiian or Other Pacific Islander', 'Clients White',\n",
       "       'Enrollments Active in Project', 'Enrollments Last Exit Destination',\n",
       "       'Entry Custom Arson (Yes / No)',\n",
       "       'Entry Custom History of arson or sexually based offenses? (Yes / No)',\n",
       "       'Entry Custom HIV/AIDS (Yes / No)',\n",
       "       'Entry Screen Chronic Homeless at PIT/Current Date (Yes / No)',\n",
       "       'Entry Screen Chronic Homeless at Project Start (Yes / No)',\n",
       "       'Entry Screen Domestic Violence',\n",
       "       'Entry Screen Currently Fleeing Domestic Violence',\n",
       "       'Entry Screen Education Degree', 'Entry Screen Employment Seeking',\n",
       "       'Entry Screen Child Support (Yes / No)',\n",
       "       'Entry Screen Earned Income (Yes / No)',\n",
       "       'Entry Screen General Assistance (Yes / No)',\n",
       "       'Entry Screen Earned Income Tiers',\n",
       "       'Entry Screen Income from any Source',\n",
       "       'Entry Screen Pension or retirement income from a former job (Yes / No)',\n",
       "       'Entry Screen Private Disability Insurance (Yes / No)',\n",
       "       'Entry Screen Social Security Retirement Income (Yes / No)',\n",
       "       'Entry Screen SSDI (Yes / No)', 'Entry Screen SSI (Yes / No)',\n",
       "       'Entry Screen TANF (Yes / No)',\n",
       "       'Entry Screen Non-Cash Benefit from Any Source',\n",
       "       'Enrollments Count Children', 'Enrollments Household Type',\n",
       "       'Enrollments Individual or Family',\n",
       "       'Enrollments Average Days from Project Start to Move-In',\n",
       "       'Enrollments Average Days in Project',\n",
       "       'Enrollments Count Chronic Homeless Households'],\n",
       "      dtype='object')"
      ]
     },
     "execution_count": 9,
     "metadata": {},
     "output_type": "execute_result"
    }
   ],
   "source": [
    "df.columns"
   ]
  },
  {
   "cell_type": "code",
   "execution_count": 10,
   "metadata": {},
   "outputs": [
    {
     "name": "stdout",
     "output_type": "stream",
     "text": [
      "['White' 'Black or African American' 'American Indian or Alaska Native'\n",
      " 'Multi-racial' 'Native Hawaiian or Other Pacific Islander' 'Asian'\n",
      " \"Client doesn't Know\" 'Client Refused' 'Data Not Collected']\n",
      "<class 'numpy.ndarray'>\n"
     ]
    }
   ],
   "source": [
    "print(df['Clients Race'].unique())\n",
    "print(type(df['Clients Race'].unique()))"
   ]
  },
  {
   "cell_type": "code",
   "execution_count": 11,
   "metadata": {
    "scrolled": true
   },
   "outputs": [
    {
     "data": {
      "text/plain": [
       "Honorable                                      3903\n",
       "General under honorable conditions              589\n",
       "Under other than honorable conditions (OTH)     302\n",
       "Client doesn't know                              52\n",
       "Data not collected                               19\n",
       "Dishonorable                                      8\n",
       "Bad Conduct                                       7\n",
       "Uncharacterized                                   4\n",
       "Name: Clients Discharge Status, dtype: int64"
      ]
     },
     "execution_count": 11,
     "metadata": {},
     "output_type": "execute_result"
    }
   ],
   "source": [
    "df.groupby(\"Clients Discharge Status\")[\"Clients Discharge Status\"].count()\n",
    "x=df[\"Clients Discharge Status\"].value_counts()\n",
    "x"
   ]
  },
  {
   "cell_type": "code",
   "execution_count": 12,
   "metadata": {
    "scrolled": true
   },
   "outputs": [
    {
     "name": "stdout",
     "output_type": "stream",
     "text": [
      "[nan]\n",
      "<class 'numpy.ndarray'>\n"
     ]
    }
   ],
   "source": [
    "print(df['Update/Exit Custom Current Program Phase'].unique())\n",
    "print(type(df['Update/Exit Custom Current Program Phase'].unique()))"
   ]
  },
  {
   "cell_type": "code",
   "execution_count": 13,
   "metadata": {},
   "outputs": [
    {
     "name": "stdout",
     "output_type": "stream",
     "text": [
      "[nan]\n",
      "<class 'numpy.ndarray'>\n"
     ]
    }
   ],
   "source": [
    "print(df['Update/Exit Custom Current Program Phase'].unique())\n",
    "print(type(df['Update/Exit Custom Current Program Phase'].unique()))"
   ]
  },
  {
   "cell_type": "code",
   "execution_count": 14,
   "metadata": {
    "scrolled": true
   },
   "outputs": [
    {
     "data": {
      "text/plain": [
       "AbS - Abode Services                                      11095\n",
       "CE - Coordinated Entry                                     8033\n",
       "BFHP - Berkeley Food and Housing Project                   7309\n",
       "EOCP - East Oakland Community Project                      6965\n",
       "BOSS - Building Opportunities for Self Sufficiency         4987\n",
       "OD - Operation Dignity                                     4891\n",
       "ORS - Options Recovery Services                            3693\n",
       "BFWC - Building Futures with Women and Children            3597\n",
       "WDDC - Women's Daytime Drop In Center                      3228\n",
       "CH - Covenant House                                        2861\n",
       "GI - Goodwill Industries of the Greater East Bay           2551\n",
       "APC - Alameda Point Collaborative                          2052\n",
       "BACS - Bay Area Community Services                         1749\n",
       "SMC - St. Mary's Center                                    1542\n",
       "RPI - Rubicon Programs, Inc.                               1512\n",
       "LMC - Lifelong Medical Care                                1499\n",
       "FESCO - Family Emergency Shelter Coalition                 1406\n",
       "ACHCD - Housing and Community Development                  1343\n",
       "NMCH - Alameda County Network of Mental Health Clients     1331\n",
       "SVdP - St Vincent de Paul                                  1242\n",
       "FPFY - First Place for Youth                               1141\n",
       "EBCRP - East Bay Community Recovery Project                 857\n",
       "ABH - Anka Behavioral Health, inc.                          797\n",
       "CoB - City of Berkeley                                      728\n",
       "StP - Swords to Plowshares                                  410\n",
       "SC - Second Chance                                          273\n",
       "HAC - Homeless Action Center                                175\n",
       "EBCLC - East Bay Community Law Center                       173\n",
       "FF - Fred Finch Youth Center                                125\n",
       "BH - Bonita House                                            88\n",
       "CoO - City of Oakland                                        73\n",
       "SHP - South Hayward Parish                                   37\n",
       "YAFF - Yvette A Flunder Foundation                           31\n",
       "SAHA - Satellite Affordable Housing Associates                7\n",
       "Name: Agencies Agency Name, dtype: int64"
      ]
     },
     "execution_count": 14,
     "metadata": {},
     "output_type": "execute_result"
    }
   ],
   "source": [
    "df.groupby(\"Agencies Agency Name\")[\"Agencies Agency Name\"].count()\n",
    "Agencies=df[\"Agencies Agency Name\"].value_counts()\n",
    "Agencies"
   ]
  },
  {
   "cell_type": "code",
   "execution_count": 15,
   "metadata": {},
   "outputs": [],
   "source": [
    "df1=df.drop(columns=['Entry Screen Earned Income Tiers', 'Entry Custom HIV/AIDS (Yes / No)'\n",
    "                     ,'Entry Custom History of arson or sexually based offenses? (Yes / No)',\n",
    "                    'Entry Custom Arson (Yes / No)', 'Entry Screen Private Disability Insurance (Yes / No)',\n",
    "                     'Programs Name','Update/Exit Custom Current Program Phase','Clients Global Household - Head of Household (HoH)'\n",
    "                    ,'Programs Added Date','Program Inventory Start Date','Program Inventory End Date',\n",
    "                    'Clients American Indian or Alaska Native','Clients Asian', 'Clients Black or African American',\n",
    "                     'Clients Native Hawaiian or Other Pacific Islander', 'Clients White','Entry Screen General Assistance (Yes / No)',\n",
    "                    'Entry Screen Non-Cash Benefit from Any Source','Clients Unique Identifier','Clients Discharge Status',\n",
    "                     'Enrollments Count Chronic Homeless Households','Entry Screen SSDI (Yes / No)'])"
   ]
  },
  {
   "cell_type": "code",
   "execution_count": 16,
   "metadata": {
    "scrolled": true
   },
   "outputs": [
    {
     "data": {
      "text/plain": [
       "Index(['Agencies Agency Name', 'Clients Age Tier', 'Clients Ethnicity',\n",
       "       'Clients Race', 'Clients Veteran Status',\n",
       "       'Enrollments Days from Project Start to Move-In',\n",
       "       'Enrollments Days in Project', 'Enrollments Project Start Date',\n",
       "       'Enrollments Project Exit Date',\n",
       "       'Entry Screen Residence Prior to Project Entry',\n",
       "       'Inbound Recidivism Appeared Before (Yes / No)',\n",
       "       'Inbound Recidivism Appeared Before In Same Program (Yes / No)',\n",
       "       'Inbound Recidivism Appeared Before with Stable Housing (Yes / No)',\n",
       "       'Inbound Recidivism Days Since Last Exit',\n",
       "       'Outbound Recidivism Appears Again (Yes / No)',\n",
       "       'Outbound Recidivism Appears Again Without Stable Housing (Yes / No)',\n",
       "       'Outbound Recidivism Days Until Next Entry',\n",
       "       'Outbound Recidivism Next Entry Date', 'Programs Project Type Code',\n",
       "       'Update/Exit Screen Exit Destination',\n",
       "       'Update/Exit Screen Housed on Exit',\n",
       "       'Update/Exit Screen Housing Status', 'Clients Gender',\n",
       "       'Enrollments Active in Project', 'Enrollments Last Exit Destination',\n",
       "       'Entry Screen Chronic Homeless at PIT/Current Date (Yes / No)',\n",
       "       'Entry Screen Chronic Homeless at Project Start (Yes / No)',\n",
       "       'Entry Screen Domestic Violence',\n",
       "       'Entry Screen Currently Fleeing Domestic Violence',\n",
       "       'Entry Screen Education Degree', 'Entry Screen Employment Seeking',\n",
       "       'Entry Screen Child Support (Yes / No)',\n",
       "       'Entry Screen Earned Income (Yes / No)',\n",
       "       'Entry Screen Income from any Source',\n",
       "       'Entry Screen Pension or retirement income from a former job (Yes / No)',\n",
       "       'Entry Screen Social Security Retirement Income (Yes / No)',\n",
       "       'Entry Screen SSI (Yes / No)', 'Entry Screen TANF (Yes / No)',\n",
       "       'Enrollments Count Children', 'Enrollments Household Type',\n",
       "       'Enrollments Individual or Family',\n",
       "       'Enrollments Average Days from Project Start to Move-In',\n",
       "       'Enrollments Average Days in Project'],\n",
       "      dtype='object')"
      ]
     },
     "execution_count": 16,
     "metadata": {},
     "output_type": "execute_result"
    }
   ],
   "source": [
    "df1.columns"
   ]
  },
  {
   "cell_type": "code",
   "execution_count": 17,
   "metadata": {},
   "outputs": [
    {
     "data": {
      "text/html": [
       "<div>\n",
       "<style scoped>\n",
       "    .dataframe tbody tr th:only-of-type {\n",
       "        vertical-align: middle;\n",
       "    }\n",
       "\n",
       "    .dataframe tbody tr th {\n",
       "        vertical-align: top;\n",
       "    }\n",
       "\n",
       "    .dataframe thead th {\n",
       "        text-align: right;\n",
       "    }\n",
       "</style>\n",
       "<table border=\"1\" class=\"dataframe\">\n",
       "  <thead>\n",
       "    <tr style=\"text-align: right;\">\n",
       "      <th></th>\n",
       "      <th>Agencies Agency Name</th>\n",
       "      <th>Clients Age Tier</th>\n",
       "      <th>Clients Ethnicity</th>\n",
       "      <th>Clients Race</th>\n",
       "      <th>Clients Veteran Status</th>\n",
       "      <th>Enrollments Days from Project Start to Move-In</th>\n",
       "      <th>Enrollments Days in Project</th>\n",
       "      <th>Enrollments Project Start Date</th>\n",
       "      <th>Enrollments Project Exit Date</th>\n",
       "      <th>Entry Screen Residence Prior to Project Entry</th>\n",
       "      <th>...</th>\n",
       "      <th>Entry Screen Income from any Source</th>\n",
       "      <th>Entry Screen Pension or retirement income from a former job (Yes / No)</th>\n",
       "      <th>Entry Screen Social Security Retirement Income (Yes / No)</th>\n",
       "      <th>Entry Screen SSI (Yes / No)</th>\n",
       "      <th>Entry Screen TANF (Yes / No)</th>\n",
       "      <th>Enrollments Count Children</th>\n",
       "      <th>Enrollments Household Type</th>\n",
       "      <th>Enrollments Individual or Family</th>\n",
       "      <th>Enrollments Average Days from Project Start to Move-In</th>\n",
       "      <th>Enrollments Average Days in Project</th>\n",
       "    </tr>\n",
       "  </thead>\n",
       "  <tbody>\n",
       "    <tr>\n",
       "      <th>0</th>\n",
       "      <td>AbS - Abode Services</td>\n",
       "      <td>45 to 54</td>\n",
       "      <td>Hispanic/Latino</td>\n",
       "      <td>White</td>\n",
       "      <td>No</td>\n",
       "      <td>NaN</td>\n",
       "      <td>299</td>\n",
       "      <td>6/29/2018</td>\n",
       "      <td>NaN</td>\n",
       "      <td>Rental by client, with other housing subsidy (...</td>\n",
       "      <td>...</td>\n",
       "      <td>Income</td>\n",
       "      <td>No</td>\n",
       "      <td>No</td>\n",
       "      <td>No</td>\n",
       "      <td>No</td>\n",
       "      <td>0</td>\n",
       "      <td>Household without Children</td>\n",
       "      <td>Individual</td>\n",
       "      <td>NaN</td>\n",
       "      <td>299</td>\n",
       "    </tr>\n",
       "    <tr>\n",
       "      <th>1</th>\n",
       "      <td>AbS - Abode Services</td>\n",
       "      <td>45 to 54</td>\n",
       "      <td>Non-Hispanic/Non-Latino</td>\n",
       "      <td>Black or African American</td>\n",
       "      <td>No</td>\n",
       "      <td>NaN</td>\n",
       "      <td>231</td>\n",
       "      <td>6/29/2018</td>\n",
       "      <td>2/15/2019</td>\n",
       "      <td>Permanent housing (other than RRH) for formerl...</td>\n",
       "      <td>...</td>\n",
       "      <td>No Income</td>\n",
       "      <td>No</td>\n",
       "      <td>No</td>\n",
       "      <td>No</td>\n",
       "      <td>No</td>\n",
       "      <td>0</td>\n",
       "      <td>Household without Children</td>\n",
       "      <td>Individual</td>\n",
       "      <td>NaN</td>\n",
       "      <td>231</td>\n",
       "    </tr>\n",
       "    <tr>\n",
       "      <th>2</th>\n",
       "      <td>AbS - Abode Services</td>\n",
       "      <td>45 to 54</td>\n",
       "      <td>Non-Hispanic/Non-Latino</td>\n",
       "      <td>White</td>\n",
       "      <td>No</td>\n",
       "      <td>NaN</td>\n",
       "      <td>139</td>\n",
       "      <td>6/29/2018</td>\n",
       "      <td>11/15/2018</td>\n",
       "      <td>Place not meant for habitation</td>\n",
       "      <td>...</td>\n",
       "      <td>No Income</td>\n",
       "      <td>No</td>\n",
       "      <td>No</td>\n",
       "      <td>No</td>\n",
       "      <td>No</td>\n",
       "      <td>0</td>\n",
       "      <td>Household without Children</td>\n",
       "      <td>Individual</td>\n",
       "      <td>NaN</td>\n",
       "      <td>139</td>\n",
       "    </tr>\n",
       "    <tr>\n",
       "      <th>3</th>\n",
       "      <td>BACS - Bay Area Community Services</td>\n",
       "      <td>25 to 34</td>\n",
       "      <td>Non-Hispanic/Non-Latino</td>\n",
       "      <td>White</td>\n",
       "      <td>No</td>\n",
       "      <td>NaN</td>\n",
       "      <td>103</td>\n",
       "      <td>6/29/2018</td>\n",
       "      <td>10/10/2018</td>\n",
       "      <td>Emergency Shelter, including hotel/motel paid ...</td>\n",
       "      <td>...</td>\n",
       "      <td>Income</td>\n",
       "      <td>No</td>\n",
       "      <td>No</td>\n",
       "      <td>No</td>\n",
       "      <td>No</td>\n",
       "      <td>0</td>\n",
       "      <td>Household without Children</td>\n",
       "      <td>Individual</td>\n",
       "      <td>NaN</td>\n",
       "      <td>103</td>\n",
       "    </tr>\n",
       "    <tr>\n",
       "      <th>4</th>\n",
       "      <td>BACS - Bay Area Community Services</td>\n",
       "      <td>35 to 44</td>\n",
       "      <td>Hispanic/Latino</td>\n",
       "      <td>White</td>\n",
       "      <td>No</td>\n",
       "      <td>NaN</td>\n",
       "      <td>103</td>\n",
       "      <td>6/29/2018</td>\n",
       "      <td>10/10/2018</td>\n",
       "      <td>Place not meant for habitation</td>\n",
       "      <td>...</td>\n",
       "      <td>Income</td>\n",
       "      <td>No</td>\n",
       "      <td>No</td>\n",
       "      <td>Yes</td>\n",
       "      <td>No</td>\n",
       "      <td>0</td>\n",
       "      <td>Household without Children</td>\n",
       "      <td>Individual</td>\n",
       "      <td>NaN</td>\n",
       "      <td>103</td>\n",
       "    </tr>\n",
       "    <tr>\n",
       "      <th>...</th>\n",
       "      <td>...</td>\n",
       "      <td>...</td>\n",
       "      <td>...</td>\n",
       "      <td>...</td>\n",
       "      <td>...</td>\n",
       "      <td>...</td>\n",
       "      <td>...</td>\n",
       "      <td>...</td>\n",
       "      <td>...</td>\n",
       "      <td>...</td>\n",
       "      <td>...</td>\n",
       "      <td>...</td>\n",
       "      <td>...</td>\n",
       "      <td>...</td>\n",
       "      <td>...</td>\n",
       "      <td>...</td>\n",
       "      <td>...</td>\n",
       "      <td>...</td>\n",
       "      <td>...</td>\n",
       "      <td>...</td>\n",
       "      <td>...</td>\n",
       "    </tr>\n",
       "    <tr>\n",
       "      <th>77796</th>\n",
       "      <td>BOSS - Building Opportunities for Self Suffici...</td>\n",
       "      <td>65 or Above</td>\n",
       "      <td>Non-Hispanic/Non-Latino</td>\n",
       "      <td>White</td>\n",
       "      <td>No</td>\n",
       "      <td>-2</td>\n",
       "      <td>7030</td>\n",
       "      <td>8/7/1994</td>\n",
       "      <td>11/5/2013</td>\n",
       "      <td>Permanent housing (other than RRH) for formerl...</td>\n",
       "      <td>...</td>\n",
       "      <td>Income</td>\n",
       "      <td>No</td>\n",
       "      <td>No</td>\n",
       "      <td>Yes</td>\n",
       "      <td>No</td>\n",
       "      <td>0</td>\n",
       "      <td>Household without Children</td>\n",
       "      <td>Individual</td>\n",
       "      <td>-2.0</td>\n",
       "      <td>7030</td>\n",
       "    </tr>\n",
       "    <tr>\n",
       "      <th>77797</th>\n",
       "      <td>BOSS - Building Opportunities for Self Suffici...</td>\n",
       "      <td>65 or Above</td>\n",
       "      <td>Non-Hispanic/Non-Latino</td>\n",
       "      <td>White</td>\n",
       "      <td>No</td>\n",
       "      <td>-2</td>\n",
       "      <td>9026</td>\n",
       "      <td>8/7/1994</td>\n",
       "      <td>NaN</td>\n",
       "      <td>Permanent housing (other than RRH) for formerl...</td>\n",
       "      <td>...</td>\n",
       "      <td>Income</td>\n",
       "      <td>No</td>\n",
       "      <td>No</td>\n",
       "      <td>Yes</td>\n",
       "      <td>No</td>\n",
       "      <td>0</td>\n",
       "      <td>Household without Children</td>\n",
       "      <td>Individual</td>\n",
       "      <td>-2.0</td>\n",
       "      <td>9026</td>\n",
       "    </tr>\n",
       "    <tr>\n",
       "      <th>77798</th>\n",
       "      <td>ACHCD - Housing and Community Development</td>\n",
       "      <td>25 to 34</td>\n",
       "      <td>Non-Hispanic/Non-Latino</td>\n",
       "      <td>Black or African American</td>\n",
       "      <td>No</td>\n",
       "      <td>0</td>\n",
       "      <td>9483</td>\n",
       "      <td>5/7/1993</td>\n",
       "      <td>NaN</td>\n",
       "      <td>Emergency Shelter, including hotel/motel paid ...</td>\n",
       "      <td>...</td>\n",
       "      <td>Income</td>\n",
       "      <td>No</td>\n",
       "      <td>No</td>\n",
       "      <td>Yes</td>\n",
       "      <td>No</td>\n",
       "      <td>1</td>\n",
       "      <td>Household with Children</td>\n",
       "      <td>Family</td>\n",
       "      <td>0.0</td>\n",
       "      <td>9483</td>\n",
       "    </tr>\n",
       "    <tr>\n",
       "      <th>77799</th>\n",
       "      <td>ACHCD - Housing and Community Development</td>\n",
       "      <td>65 or Above</td>\n",
       "      <td>Non-Hispanic/Non-Latino</td>\n",
       "      <td>Black or African American</td>\n",
       "      <td>No</td>\n",
       "      <td>0</td>\n",
       "      <td>9483</td>\n",
       "      <td>5/7/1993</td>\n",
       "      <td>NaN</td>\n",
       "      <td>Emergency Shelter, including hotel/motel paid ...</td>\n",
       "      <td>...</td>\n",
       "      <td>Income</td>\n",
       "      <td>No</td>\n",
       "      <td>No</td>\n",
       "      <td>No</td>\n",
       "      <td>Yes</td>\n",
       "      <td>1</td>\n",
       "      <td>Household with Children</td>\n",
       "      <td>Family</td>\n",
       "      <td>0.0</td>\n",
       "      <td>9483</td>\n",
       "    </tr>\n",
       "    <tr>\n",
       "      <th>77800</th>\n",
       "      <td>ACHCD - Housing and Community Development</td>\n",
       "      <td>45 to 54</td>\n",
       "      <td>Hispanic/Latino</td>\n",
       "      <td>White</td>\n",
       "      <td>No</td>\n",
       "      <td>0</td>\n",
       "      <td>9493</td>\n",
       "      <td>4/27/1993</td>\n",
       "      <td>NaN</td>\n",
       "      <td>Place not meant for habitation</td>\n",
       "      <td>...</td>\n",
       "      <td>Income</td>\n",
       "      <td>No</td>\n",
       "      <td>No</td>\n",
       "      <td>No</td>\n",
       "      <td>No</td>\n",
       "      <td>0</td>\n",
       "      <td>Household without Children</td>\n",
       "      <td>Individual</td>\n",
       "      <td>0.0</td>\n",
       "      <td>9493</td>\n",
       "    </tr>\n",
       "  </tbody>\n",
       "</table>\n",
       "<p>77801 rows × 43 columns</p>\n",
       "</div>"
      ],
      "text/plain": [
       "                                    Agencies Agency Name Clients Age Tier  \\\n",
       "0                                   AbS - Abode Services         45 to 54   \n",
       "1                                   AbS - Abode Services         45 to 54   \n",
       "2                                   AbS - Abode Services         45 to 54   \n",
       "3                     BACS - Bay Area Community Services         25 to 34   \n",
       "4                     BACS - Bay Area Community Services         35 to 44   \n",
       "...                                                  ...              ...   \n",
       "77796  BOSS - Building Opportunities for Self Suffici...      65 or Above   \n",
       "77797  BOSS - Building Opportunities for Self Suffici...      65 or Above   \n",
       "77798          ACHCD - Housing and Community Development         25 to 34   \n",
       "77799          ACHCD - Housing and Community Development      65 or Above   \n",
       "77800          ACHCD - Housing and Community Development         45 to 54   \n",
       "\n",
       "             Clients Ethnicity               Clients Race  \\\n",
       "0              Hispanic/Latino                      White   \n",
       "1      Non-Hispanic/Non-Latino  Black or African American   \n",
       "2      Non-Hispanic/Non-Latino                      White   \n",
       "3      Non-Hispanic/Non-Latino                      White   \n",
       "4              Hispanic/Latino                      White   \n",
       "...                        ...                        ...   \n",
       "77796  Non-Hispanic/Non-Latino                      White   \n",
       "77797  Non-Hispanic/Non-Latino                      White   \n",
       "77798  Non-Hispanic/Non-Latino  Black or African American   \n",
       "77799  Non-Hispanic/Non-Latino  Black or African American   \n",
       "77800          Hispanic/Latino                      White   \n",
       "\n",
       "      Clients Veteran Status Enrollments Days from Project Start to Move-In  \\\n",
       "0                         No                                            NaN   \n",
       "1                         No                                            NaN   \n",
       "2                         No                                            NaN   \n",
       "3                         No                                            NaN   \n",
       "4                         No                                            NaN   \n",
       "...                      ...                                            ...   \n",
       "77796                     No                                             -2   \n",
       "77797                     No                                             -2   \n",
       "77798                     No                                              0   \n",
       "77799                     No                                              0   \n",
       "77800                     No                                              0   \n",
       "\n",
       "       Enrollments Days in Project Enrollments Project Start Date  \\\n",
       "0                              299                      6/29/2018   \n",
       "1                              231                      6/29/2018   \n",
       "2                              139                      6/29/2018   \n",
       "3                              103                      6/29/2018   \n",
       "4                              103                      6/29/2018   \n",
       "...                            ...                            ...   \n",
       "77796                         7030                       8/7/1994   \n",
       "77797                         9026                       8/7/1994   \n",
       "77798                         9483                       5/7/1993   \n",
       "77799                         9483                       5/7/1993   \n",
       "77800                         9493                      4/27/1993   \n",
       "\n",
       "      Enrollments Project Exit Date  \\\n",
       "0                               NaN   \n",
       "1                         2/15/2019   \n",
       "2                        11/15/2018   \n",
       "3                        10/10/2018   \n",
       "4                        10/10/2018   \n",
       "...                             ...   \n",
       "77796                     11/5/2013   \n",
       "77797                           NaN   \n",
       "77798                           NaN   \n",
       "77799                           NaN   \n",
       "77800                           NaN   \n",
       "\n",
       "           Entry Screen Residence Prior to Project Entry  ...  \\\n",
       "0      Rental by client, with other housing subsidy (...  ...   \n",
       "1      Permanent housing (other than RRH) for formerl...  ...   \n",
       "2                         Place not meant for habitation  ...   \n",
       "3      Emergency Shelter, including hotel/motel paid ...  ...   \n",
       "4                         Place not meant for habitation  ...   \n",
       "...                                                  ...  ...   \n",
       "77796  Permanent housing (other than RRH) for formerl...  ...   \n",
       "77797  Permanent housing (other than RRH) for formerl...  ...   \n",
       "77798  Emergency Shelter, including hotel/motel paid ...  ...   \n",
       "77799  Emergency Shelter, including hotel/motel paid ...  ...   \n",
       "77800                     Place not meant for habitation  ...   \n",
       "\n",
       "      Entry Screen Income from any Source  \\\n",
       "0                                  Income   \n",
       "1                               No Income   \n",
       "2                               No Income   \n",
       "3                                  Income   \n",
       "4                                  Income   \n",
       "...                                   ...   \n",
       "77796                              Income   \n",
       "77797                              Income   \n",
       "77798                              Income   \n",
       "77799                              Income   \n",
       "77800                              Income   \n",
       "\n",
       "      Entry Screen Pension or retirement income from a former job (Yes / No)  \\\n",
       "0                                                     No                       \n",
       "1                                                     No                       \n",
       "2                                                     No                       \n",
       "3                                                     No                       \n",
       "4                                                     No                       \n",
       "...                                                  ...                       \n",
       "77796                                                 No                       \n",
       "77797                                                 No                       \n",
       "77798                                                 No                       \n",
       "77799                                                 No                       \n",
       "77800                                                 No                       \n",
       "\n",
       "      Entry Screen Social Security Retirement Income (Yes / No)  \\\n",
       "0                                                     No          \n",
       "1                                                     No          \n",
       "2                                                     No          \n",
       "3                                                     No          \n",
       "4                                                     No          \n",
       "...                                                  ...          \n",
       "77796                                                 No          \n",
       "77797                                                 No          \n",
       "77798                                                 No          \n",
       "77799                                                 No          \n",
       "77800                                                 No          \n",
       "\n",
       "      Entry Screen SSI (Yes / No) Entry Screen TANF (Yes / No)  \\\n",
       "0                              No                           No   \n",
       "1                              No                           No   \n",
       "2                              No                           No   \n",
       "3                              No                           No   \n",
       "4                             Yes                           No   \n",
       "...                           ...                          ...   \n",
       "77796                         Yes                           No   \n",
       "77797                         Yes                           No   \n",
       "77798                         Yes                           No   \n",
       "77799                          No                          Yes   \n",
       "77800                          No                           No   \n",
       "\n",
       "      Enrollments Count Children  Enrollments Household Type  \\\n",
       "0                              0  Household without Children   \n",
       "1                              0  Household without Children   \n",
       "2                              0  Household without Children   \n",
       "3                              0  Household without Children   \n",
       "4                              0  Household without Children   \n",
       "...                          ...                         ...   \n",
       "77796                          0  Household without Children   \n",
       "77797                          0  Household without Children   \n",
       "77798                          1     Household with Children   \n",
       "77799                          1     Household with Children   \n",
       "77800                          0  Household without Children   \n",
       "\n",
       "      Enrollments Individual or Family  \\\n",
       "0                           Individual   \n",
       "1                           Individual   \n",
       "2                           Individual   \n",
       "3                           Individual   \n",
       "4                           Individual   \n",
       "...                                ...   \n",
       "77796                       Individual   \n",
       "77797                       Individual   \n",
       "77798                           Family   \n",
       "77799                           Family   \n",
       "77800                       Individual   \n",
       "\n",
       "      Enrollments Average Days from Project Start to Move-In  \\\n",
       "0                                                    NaN       \n",
       "1                                                    NaN       \n",
       "2                                                    NaN       \n",
       "3                                                    NaN       \n",
       "4                                                    NaN       \n",
       "...                                                  ...       \n",
       "77796                                               -2.0       \n",
       "77797                                               -2.0       \n",
       "77798                                                0.0       \n",
       "77799                                                0.0       \n",
       "77800                                                0.0       \n",
       "\n",
       "      Enrollments Average Days in Project  \n",
       "0                                     299  \n",
       "1                                     231  \n",
       "2                                     139  \n",
       "3                                     103  \n",
       "4                                     103  \n",
       "...                                   ...  \n",
       "77796                                7030  \n",
       "77797                                9026  \n",
       "77798                                9483  \n",
       "77799                                9483  \n",
       "77800                                9493  \n",
       "\n",
       "[77801 rows x 43 columns]"
      ]
     },
     "execution_count": 17,
     "metadata": {},
     "output_type": "execute_result"
    }
   ],
   "source": [
    "df1"
   ]
  },
  {
   "cell_type": "code",
   "execution_count": 18,
   "metadata": {},
   "outputs": [
    {
     "data": {
      "text/plain": [
       "43"
      ]
     },
     "execution_count": 18,
     "metadata": {},
     "output_type": "execute_result"
    }
   ],
   "source": [
    "len(df1.columns)"
   ]
  },
  {
   "cell_type": "code",
   "execution_count": 19,
   "metadata": {},
   "outputs": [
    {
     "data": {
      "text/plain": [
       "Text(0.5, 1.0, 'Clients Age Bar Chart')"
      ]
     },
     "execution_count": 19,
     "metadata": {},
     "output_type": "execute_result"
    },
    {
     "data": {
      "image/png": "[encoded data removed]",
      "text/plain": [
       "<Figure size 432x288 with 1 Axes>"
      ]
     },
     "metadata": {
      "needs_background": "light"
     },
     "output_type": "display_data"
    }
   ],
   "source": [
    "df1[\"Clients Age Tier\"].value_counts().plot(kind='bar', color = 'darkkhaki')\n",
    "plt.title(\"Clients Age Bar Chart\")"
   ]
  },
  {
   "cell_type": "code",
   "execution_count": 20,
   "metadata": {
    "scrolled": true
   },
   "outputs": [
    {
     "data": {
      "text/plain": [
       "Text(0.5, 1.0, 'Clients Race Bar Chart')"
      ]
     },
     "execution_count": 20,
     "metadata": {},
     "output_type": "execute_result"
    },
    {
     "data": {
      "image/png": "[encoded data removed]",
      "text/plain": [
       "<Figure size 432x288 with 1 Axes>"
      ]
     },
     "metadata": {
      "needs_background": "light"
     },
     "output_type": "display_data"
    }
   ],
   "source": [
    "df1['Clients Race'].value_counts().plot(kind='bar', color = 'lightcoral')\n",
    "plt.title(\"Clients Race Bar Chart\")"
   ]
  },
  {
   "cell_type": "code",
   "execution_count": 21,
   "metadata": {},
   "outputs": [
    {
     "data": {
      "text/plain": [
       "Black or African American                    43761\n",
       "White                                        19914\n",
       "Multi-racial                                  7646\n",
       "American Indian or Alaska Native              2042\n",
       "Asian                                         1642\n",
       "Client Refused                                1639\n",
       "Native Hawaiian or Other Pacific Islander     1148\n",
       "Client doesn't Know                              6\n",
       "Data Not Collected                               3\n",
       "Name: Clients Race, dtype: int64"
      ]
     },
     "execution_count": 21,
     "metadata": {},
     "output_type": "execute_result"
    }
   ],
   "source": [
    "df1.groupby(\"Clients Race\")[\"Clients Race\"].count()\n",
    "ClientsRacePie=df[\"Clients Race\"].value_counts()\n",
    "ClientsRacePie"
   ]
  },
  {
   "cell_type": "code",
   "execution_count": 22,
   "metadata": {},
   "outputs": [
    {
     "data": {
      "text/plain": [
       "55 to 64       16793\n",
       "25 to 34       12973\n",
       "45 to 54       12901\n",
       "35 to 44       11189\n",
       "0 to 17        10361\n",
       "65 or Above     7727\n",
       "18 to 24        5549\n",
       "Undefined        307\n",
       "Below 0            1\n",
       "Name: Clients Age Tier, dtype: int64"
      ]
     },
     "execution_count": 22,
     "metadata": {},
     "output_type": "execute_result"
    }
   ],
   "source": [
    "df1.groupby(\"Clients Age Tier\")[\"Clients Age Tier\"].count()\n",
    "ClientsAgePie=df[\"Clients Age Tier\"].value_counts()\n",
    "ClientsAgePie"
   ]
  },
  {
   "cell_type": "code",
   "execution_count": 23,
   "metadata": {
    "scrolled": true
   },
   "outputs": [
    {
     "data": {
      "text/plain": [
       "Text(0.5, 1.0, 'Clients Age Pie Chart')"
      ]
     },
     "execution_count": 23,
     "metadata": {},
     "output_type": "execute_result"
    },
    {
     "data": {
      "image/png": "[encoded data removed]",
      "text/plain": [
       "<Figure size 432x288 with 1 Axes>"
      ]
     },
     "metadata": {},
     "output_type": "display_data"
    }
   ],
   "source": [
    "plt.pie(ClientsAgePie.values, labels=ClientsAgePie.index, autopct='%.0f%%')\n",
    "plt.title(\"Clients Age Pie Chart\")"
   ]
  },
  {
   "cell_type": "code",
   "execution_count": 24,
   "metadata": {},
   "outputs": [
    {
     "data": {
      "text/plain": [
       "Male                                                           43452\n",
       "Female                                                         33832\n",
       "Data not collected                                               407\n",
       "Trans Female (MTF or Male to Female)                              67\n",
       "Trans Male (FTM or Female to Male)                                28\n",
       "Client refused                                                     9\n",
       "Client doesn't know                                                5\n",
       "Gender Non-Conforming (i.e. not exclusively male or female)        1\n",
       "Name: Clients Gender, dtype: int64"
      ]
     },
     "execution_count": 24,
     "metadata": {},
     "output_type": "execute_result"
    }
   ],
   "source": [
    "df1.groupby(\"Clients Gender\")[\"Clients Gender\"].count()\n",
    "ClientsGenderPie=df[\"Clients Gender\"].value_counts()\n",
    "ClientsGenderPie\n"
   ]
  },
  {
   "cell_type": "markdown",
   "metadata": {},
   "source": [
    "# STACKED BAR GRAPH"
   ]
  },
  {
   "cell_type": "code",
   "execution_count": 25,
   "metadata": {},
   "outputs": [
    {
     "data": {
      "text/plain": [
       "No     44750\n",
       "Yes    33051\n",
       "Name: Entry Screen Earned Income (Yes / No), dtype: int64"
      ]
     },
     "execution_count": 25,
     "metadata": {},
     "output_type": "execute_result"
    }
   ],
   "source": [
    "df1.groupby(\"Entry Screen Earned Income (Yes / No)\")[\"Entry Screen Earned Income (Yes / No)\"].count()\n",
    "EntrySEI=df[\"Entry Screen Earned Income (Yes / No)\"].value_counts()\n",
    "EntrySEI\n"
   ]
  },
  {
   "cell_type": "code",
   "execution_count": 26,
   "metadata": {},
   "outputs": [
    {
     "data": {
      "text/plain": [
       "No     51918\n",
       "Yes    25883\n",
       "Name: Entry Screen Child Support (Yes / No), dtype: int64"
      ]
     },
     "execution_count": 26,
     "metadata": {},
     "output_type": "execute_result"
    }
   ],
   "source": [
    "df1.groupby(\"Entry Screen Child Support (Yes / No)\")[\"Entry Screen Child Support (Yes / No)\"].count()\n",
    "EntrySCS=df[\"Entry Screen Child Support (Yes / No)\"].value_counts()\n",
    "EntrySCS"
   ]
  },
  {
   "cell_type": "code",
   "execution_count": 27,
   "metadata": {},
   "outputs": [
    {
     "data": {
      "text/plain": [
       "No     52045\n",
       "Yes    25756\n",
       "Name: Entry Screen Pension or retirement income from a former job (Yes / No), dtype: int64"
      ]
     },
     "execution_count": 27,
     "metadata": {},
     "output_type": "execute_result"
    }
   ],
   "source": [
    "df1.groupby(\"Entry Screen Pension or retirement income from a former job (Yes / No)\")[\"Entry Screen Pension or retirement income from a former job (Yes / No)\"].count()\n",
    "EntrySPRI=df[\"Entry Screen Pension or retirement income from a former job (Yes / No)\"].value_counts()\n",
    "EntrySPRI"
   ]
  },
  {
   "cell_type": "code",
   "execution_count": 28,
   "metadata": {},
   "outputs": [
    {
     "data": {
      "text/plain": [
       "No     50785\n",
       "Yes    27016\n",
       "Name: Entry Screen Social Security Retirement Income (Yes / No), dtype: int64"
      ]
     },
     "execution_count": 28,
     "metadata": {},
     "output_type": "execute_result"
    }
   ],
   "source": [
    "df1.groupby(\"Entry Screen Social Security Retirement Income (Yes / No)\")[\"Entry Screen Social Security Retirement Income (Yes / No)\"].count()\n",
    "EntrySSRI=df[\"Entry Screen Social Security Retirement Income (Yes / No)\"].value_counts()\n",
    "EntrySSRI\n",
    "\n",
    "\n"
   ]
  },
  {
   "cell_type": "code",
   "execution_count": 29,
   "metadata": {},
   "outputs": [
    {
     "data": {
      "text/plain": [
       "No     41530\n",
       "Yes    36271\n",
       "Name: Entry Screen SSI (Yes / No), dtype: int64"
      ]
     },
     "execution_count": 29,
     "metadata": {},
     "output_type": "execute_result"
    }
   ],
   "source": [
    "df1.groupby(\"Entry Screen SSI (Yes / No)\")[\"Entry Screen SSI (Yes / No)\"].count()\n",
    "EntrySSI=df[\"Entry Screen SSI (Yes / No)\"].value_counts()\n",
    "EntrySSI"
   ]
  },
  {
   "cell_type": "code",
   "execution_count": 30,
   "metadata": {},
   "outputs": [
    {
     "data": {
      "text/plain": [
       "No     48980\n",
       "Yes    28821\n",
       "Name: Entry Screen TANF (Yes / No), dtype: int64"
      ]
     },
     "execution_count": 30,
     "metadata": {},
     "output_type": "execute_result"
    }
   ],
   "source": [
    "df1.groupby(\"Entry Screen TANF (Yes / No)\")[\"Entry Screen TANF (Yes / No)\"].count()\n",
    "EntryTANF=df[\"Entry Screen TANF (Yes / No)\"].value_counts()\n",
    "EntryTANF\n",
    "      \n"
   ]
  },
  {
   "cell_type": "code",
   "execution_count": 31,
   "metadata": {},
   "outputs": [
    {
     "data": {
      "text/plain": [
       "Text(0.5, 1.0, 'Stacked Bar Graph of Different Income Streams for Clients')"
      ]
     },
     "execution_count": 31,
     "metadata": {},
     "output_type": "execute_result"
    },
    {
     "data": {
      "image/png": "[encoded data removed]",
      "text/plain": [
       "<Figure size 432x288 with 1 Axes>"
      ]
     },
     "metadata": {
      "needs_background": "light"
     },
     "output_type": "display_data"
    }
   ],
   "source": [
    "dfx = pd.DataFrame({\n",
    "    'Name': ['Entry Screen Child Support (Yes / No)', 'Entry Screen Earned Income (Yes / No)',\n",
    "             'Entry Screen Pension or retirement income from a former job (Yes / No)','Entry Screen Social Security Retirement Income (Yes / No)',\n",
    "            'Entry Screen SSI (Yes / No)','Entry Screen TANF (Yes / No)'],\n",
    "    'Yes': [51918, 44750, 52045, 50785, 41530, 48980],\n",
    "    'No': [25883, 33051, 25756, 27016, 36271, 28821]\n",
    "})\n",
    "  \n",
    "# plotting graph\n",
    "dfx.plot(x=\"Name\",y=[\"Yes\", \"No\"], kind=\"bar\",color = ['gold','green'])\n",
    "plt.title(\"Stacked Bar Graph of Different Income Streams for Clients\")\n"
   ]
  },
  {
   "cell_type": "markdown",
   "metadata": {},
   "source": [
    "# STACKED BAR GRAPH -2"
   ]
  },
  {
   "cell_type": "code",
   "execution_count": 32,
   "metadata": {},
   "outputs": [
    {
     "data": {
      "text/plain": [
       "No     50558\n",
       "Yes    27243\n",
       "Name: Inbound Recidivism Appeared Before (Yes / No), dtype: int64"
      ]
     },
     "execution_count": 32,
     "metadata": {},
     "output_type": "execute_result"
    }
   ],
   "source": [
    "df1.groupby(\"Inbound Recidivism Appeared Before (Yes / No)\")[\"Inbound Recidivism Appeared Before (Yes / No)\"].count()\n",
    "IRAB=df[\"Inbound Recidivism Appeared Before (Yes / No)\"].value_counts()\n",
    "IRAB\n"
   ]
  },
  {
   "cell_type": "code",
   "execution_count": 33,
   "metadata": {},
   "outputs": [
    {
     "data": {
      "text/plain": [
       "No     71583\n",
       "Yes     6218\n",
       "Name: Inbound Recidivism Appeared Before In Same Program (Yes / No), dtype: int64"
      ]
     },
     "execution_count": 33,
     "metadata": {},
     "output_type": "execute_result"
    }
   ],
   "source": [
    "df1.groupby(\"Inbound Recidivism Appeared Before In Same Program (Yes / No)\")[\"Inbound Recidivism Appeared Before In Same Program (Yes / No)\"].count()\n",
    "IRABISP=df[\"Inbound Recidivism Appeared Before In Same Program (Yes / No)\"].value_counts()\n",
    "IRABISP"
   ]
  },
  {
   "cell_type": "code",
   "execution_count": 34,
   "metadata": {},
   "outputs": [
    {
     "data": {
      "text/plain": [
       "No     64261\n",
       "Yes    13540\n",
       "Name: Inbound Recidivism Appeared Before with Stable Housing (Yes / No), dtype: int64"
      ]
     },
     "execution_count": 34,
     "metadata": {},
     "output_type": "execute_result"
    }
   ],
   "source": [
    "df1.groupby(\"Inbound Recidivism Appeared Before with Stable Housing (Yes / No)\")[\"Inbound Recidivism Appeared Before with Stable Housing (Yes / No)\"].count()\n",
    "IRABWSH=df[\"Inbound Recidivism Appeared Before with Stable Housing (Yes / No)\"].value_counts()\n",
    "IRABWSH"
   ]
  },
  {
   "cell_type": "code",
   "execution_count": 35,
   "metadata": {},
   "outputs": [
    {
     "data": {
      "text/plain": [
       "Text(0.5, 1.0, 'Stacked Bar Graph of Inbound Recidivism in Different Circumstances')"
      ]
     },
     "execution_count": 35,
     "metadata": {},
     "output_type": "execute_result"
    },
    {
     "data": {
      "image/png": "[encoded data removed]",
      "text/plain": [
       "<Figure size 432x288 with 1 Axes>"
      ]
     },
     "metadata": {
      "needs_background": "light"
     },
     "output_type": "display_data"
    }
   ],
   "source": [
    "dfy = pd.DataFrame({\n",
    "    'Name': ['Inbound Recidivism Appeared Before (Yes / No)', 'Inbound Recidivism Appeared Before In Same Program (Yes / No)',\n",
    "             'Inbound Recidivism Appeared Before with Stable Housing (Yes / No)'],\n",
    "    'Yes': [50558, 71583, 64261],\n",
    "    'No': [27243, 6218, 13540]\n",
    "})\n",
    "  \n",
    "# plotting graph\n",
    "dfy.plot(x=\"Name\",y=[\"Yes\", \"No\"], kind=\"barh\",color = ['red','blue'])\n",
    "plt.title(\"Stacked Bar Graph of Inbound Recidivism in Different Circumstances\")"
   ]
  },
  {
   "cell_type": "markdown",
   "metadata": {},
   "source": [
    "# STACKED BAR GRAPH 3"
   ]
  },
  {
   "cell_type": "code",
   "execution_count": 36,
   "metadata": {},
   "outputs": [
    {
     "data": {
      "text/plain": [
       "No     70145\n",
       "Yes     7656\n",
       "Name: Outbound Recidivism Appears Again (Yes / No), dtype: int64"
      ]
     },
     "execution_count": 36,
     "metadata": {},
     "output_type": "execute_result"
    }
   ],
   "source": [
    "df1.groupby(\"Outbound Recidivism Appears Again (Yes / No)\")[\"Outbound Recidivism Appears Again (Yes / No)\"].count()\n",
    "ORAA=df[\"Outbound Recidivism Appears Again (Yes / No)\"].value_counts()\n",
    "ORAA"
   ]
  },
  {
   "cell_type": "code",
   "execution_count": 37,
   "metadata": {},
   "outputs": [
    {
     "data": {
      "text/plain": [
       "No     72933\n",
       "Yes     4868\n",
       "Name: Outbound Recidivism Appears Again Without Stable Housing (Yes / No), dtype: int64"
      ]
     },
     "execution_count": 37,
     "metadata": {},
     "output_type": "execute_result"
    }
   ],
   "source": [
    "df1.groupby(\"Outbound Recidivism Appears Again Without Stable Housing (Yes / No)\")[\"Outbound Recidivism Appears Again Without Stable Housing (Yes / No)\"].count()\n",
    "ORAAWSH=df[\"Outbound Recidivism Appears Again Without Stable Housing (Yes / No)\"].value_counts()\n",
    "ORAAWSH"
   ]
  },
  {
   "cell_type": "code",
   "execution_count": 79,
   "metadata": {
    "scrolled": true
   },
   "outputs": [
    {
     "data": {
      "text/plain": [
       "Text(0.5, 1.0, 'Stacked Bar Graph of Outbound Recidivism in Different Circumstances')"
      ]
     },
     "execution_count": 79,
     "metadata": {},
     "output_type": "execute_result"
    },
    {
     "data": {
      "image/png": "[encoded data removed]",
      "text/plain": [
       "<Figure size 432x288 with 1 Axes>"
      ]
     },
     "metadata": {
      "needs_background": "light"
     },
     "output_type": "display_data"
    }
   ],
   "source": [
    "dfz = pd.DataFrame({\n",
    "    'Name': ['Outbound Recidivism Appears Again (Yes / No)', 'Outbound Recidivism Appears Again Without Stable Housing (Yes / No)'],\n",
    "    'Yes': [70145, 71583],\n",
    "    'No': [27243, 6218]\n",
    "})\n",
    "  \n",
    "# plotting graph\n",
    "dfz.plot(x=\"Name\",y=[\"Yes\", \"No\"], kind=\"barh\",color = ['thistle','coral'])\n",
    "plt.title(\"Stacked Bar Graph of Outbound Recidivism in Different Circumstances\")"
   ]
  },
  {
   "cell_type": "markdown",
   "metadata": {},
   "source": [
    "# SCATTER PLOT"
   ]
  },
  {
   "cell_type": "code",
   "execution_count": 39,
   "metadata": {},
   "outputs": [
    {
     "data": {
      "text/plain": [
       "Index(['Agencies Agency Name', 'Clients Age Tier', 'Clients Ethnicity',\n",
       "       'Clients Race', 'Clients Veteran Status',\n",
       "       'Enrollments Days from Project Start to Move-In',\n",
       "       'Enrollments Days in Project', 'Enrollments Project Start Date',\n",
       "       'Enrollments Project Exit Date',\n",
       "       'Entry Screen Residence Prior to Project Entry',\n",
       "       'Inbound Recidivism Appeared Before (Yes / No)',\n",
       "       'Inbound Recidivism Appeared Before In Same Program (Yes / No)',\n",
       "       'Inbound Recidivism Appeared Before with Stable Housing (Yes / No)',\n",
       "       'Inbound Recidivism Days Since Last Exit',\n",
       "       'Outbound Recidivism Appears Again (Yes / No)',\n",
       "       'Outbound Recidivism Appears Again Without Stable Housing (Yes / No)',\n",
       "       'Outbound Recidivism Days Until Next Entry',\n",
       "       'Outbound Recidivism Next Entry Date', 'Programs Project Type Code',\n",
       "       'Update/Exit Screen Exit Destination',\n",
       "       'Update/Exit Screen Housed on Exit',\n",
       "       'Update/Exit Screen Housing Status', 'Clients Gender',\n",
       "       'Enrollments Active in Project', 'Enrollments Last Exit Destination',\n",
       "       'Entry Screen Chronic Homeless at PIT/Current Date (Yes / No)',\n",
       "       'Entry Screen Chronic Homeless at Project Start (Yes / No)',\n",
       "       'Entry Screen Domestic Violence',\n",
       "       'Entry Screen Currently Fleeing Domestic Violence',\n",
       "       'Entry Screen Education Degree', 'Entry Screen Employment Seeking',\n",
       "       'Entry Screen Child Support (Yes / No)',\n",
       "       'Entry Screen Earned Income (Yes / No)',\n",
       "       'Entry Screen Income from any Source',\n",
       "       'Entry Screen Pension or retirement income from a former job (Yes / No)',\n",
       "       'Entry Screen Social Security Retirement Income (Yes / No)',\n",
       "       'Entry Screen SSI (Yes / No)', 'Entry Screen TANF (Yes / No)',\n",
       "       'Enrollments Count Children', 'Enrollments Household Type',\n",
       "       'Enrollments Individual or Family',\n",
       "       'Enrollments Average Days from Project Start to Move-In',\n",
       "       'Enrollments Average Days in Project'],\n",
       "      dtype='object')"
      ]
     },
     "execution_count": 39,
     "metadata": {},
     "output_type": "execute_result"
    }
   ],
   "source": [
    "df1.columns"
   ]
  },
  {
   "cell_type": "code",
   "execution_count": 40,
   "metadata": {},
   "outputs": [
    {
     "data": {
      "text/plain": [
       "0       7016\n",
       "1       2990\n",
       "3        674\n",
       "2        664\n",
       "7        504\n",
       "        ... \n",
       "2275       1\n",
       "4320       1\n",
       "2083       1\n",
       "4128       1\n",
       "2047       1\n",
       "Name: Enrollments Days in Project, Length: 3598, dtype: int64"
      ]
     },
     "execution_count": 40,
     "metadata": {},
     "output_type": "execute_result"
    }
   ],
   "source": [
    "df1.groupby(\"Enrollments Days in Project\")[\"Enrollments Days in Project\"].count()\n",
    "EDIP=df[\"Enrollments Days in Project\"].value_counts()\n",
    "EDIP"
   ]
  },
  {
   "cell_type": "code",
   "execution_count": 41,
   "metadata": {},
   "outputs": [],
   "source": [
    "#sns.relplot(x=\"Enrollments Project Start Date\", y=\"Clients Gender\", hue=\"Enrollments Project Start Date\", data=df);"
   ]
  },
  {
   "cell_type": "code",
   "execution_count": 42,
   "metadata": {},
   "outputs": [
    {
     "data": {
      "text/plain": [
       "<AxesSubplot:xlabel='Enrollments Days in Project', ylabel='Clients Gender'>"
      ]
     },
     "execution_count": 42,
     "metadata": {},
     "output_type": "execute_result"
    },
    {
     "data": {
      "image/png": "[encoded data removed]",
      "text/plain": [
       "<Figure size 432x288 with 1 Axes>"
      ]
     },
     "metadata": {
      "needs_background": "light"
     },
     "output_type": "display_data"
    }
   ],
   "source": [
    "df.plot.scatter(x = 'Enrollments Days in Project', y = 'Clients Gender')"
   ]
  },
  {
   "cell_type": "markdown",
   "metadata": {},
   "source": [
    "Finding the ID of the Female Client outlier from graph above."
   ]
  },
  {
   "cell_type": "code",
   "execution_count": 43,
   "metadata": {},
   "outputs": [
    {
     "data": {
      "text/plain": [
       "9493"
      ]
     },
     "execution_count": 43,
     "metadata": {},
     "output_type": "execute_result"
    }
   ],
   "source": [
    "max_value=df[\"Enrollments Days in Project\"].max()\n",
    "max_value"
   ]
  },
  {
   "cell_type": "code",
   "execution_count": 44,
   "metadata": {},
   "outputs": [
    {
     "data": {
      "text/plain": [
       "77800    779D418BC\n",
       "Name: Clients Unique Identifier, dtype: object"
      ]
     },
     "execution_count": 44,
     "metadata": {},
     "output_type": "execute_result"
    }
   ],
   "source": [
    "ClientID=df.loc[df['Enrollments Days in Project'] == 9493, 'Clients Unique Identifier']\n",
    "ClientID"
   ]
  },
  {
   "cell_type": "code",
   "execution_count": null,
   "metadata": {},
   "outputs": [],
   "source": []
  },
  {
   "cell_type": "markdown",
   "metadata": {},
   "source": [
    "# PART 3"
   ]
  },
  {
   "cell_type": "markdown",
   "metadata": {},
   "source": [
    "Question A "
   ]
  },
  {
   "cell_type": "code",
   "execution_count": 45,
   "metadata": {},
   "outputs": [],
   "source": [
    "import pandas\n",
    "from sklearn import linear_model"
   ]
  },
  {
   "cell_type": "code",
   "execution_count": 46,
   "metadata": {},
   "outputs": [
    {
     "data": {
      "text/html": [
       "<div>\n",
       "<style scoped>\n",
       "    .dataframe tbody tr th:only-of-type {\n",
       "        vertical-align: middle;\n",
       "    }\n",
       "\n",
       "    .dataframe tbody tr th {\n",
       "        vertical-align: top;\n",
       "    }\n",
       "\n",
       "    .dataframe thead th {\n",
       "        text-align: right;\n",
       "    }\n",
       "</style>\n",
       "<table border=\"1\" class=\"dataframe\">\n",
       "  <thead>\n",
       "    <tr style=\"text-align: right;\">\n",
       "      <th></th>\n",
       "      <th>Agencies Agency Name</th>\n",
       "      <th>Clients Age Tier</th>\n",
       "      <th>Clients Ethnicity</th>\n",
       "      <th>Clients Race</th>\n",
       "      <th>Clients Veteran Status</th>\n",
       "      <th>Enrollments Days from Project Start to Move-In</th>\n",
       "      <th>Enrollments Days in Project</th>\n",
       "      <th>Enrollments Project Start Date</th>\n",
       "      <th>Enrollments Project Exit Date</th>\n",
       "      <th>Entry Screen Residence Prior to Project Entry</th>\n",
       "      <th>...</th>\n",
       "      <th>Entry Screen Income from any Source</th>\n",
       "      <th>Entry Screen Pension or retirement income from a former job (Yes / No)</th>\n",
       "      <th>Entry Screen Social Security Retirement Income (Yes / No)</th>\n",
       "      <th>Entry Screen SSI (Yes / No)</th>\n",
       "      <th>Entry Screen TANF (Yes / No)</th>\n",
       "      <th>Enrollments Count Children</th>\n",
       "      <th>Enrollments Household Type</th>\n",
       "      <th>Enrollments Individual or Family</th>\n",
       "      <th>Enrollments Average Days from Project Start to Move-In</th>\n",
       "      <th>Enrollments Average Days in Project</th>\n",
       "    </tr>\n",
       "  </thead>\n",
       "  <tbody>\n",
       "    <tr>\n",
       "      <th>0</th>\n",
       "      <td>AbS - Abode Services</td>\n",
       "      <td>45 to 54</td>\n",
       "      <td>Hispanic/Latino</td>\n",
       "      <td>White</td>\n",
       "      <td>No</td>\n",
       "      <td>NaN</td>\n",
       "      <td>299</td>\n",
       "      <td>6/29/2018</td>\n",
       "      <td>NaN</td>\n",
       "      <td>Rental by client, with other housing subsidy (...</td>\n",
       "      <td>...</td>\n",
       "      <td>Income</td>\n",
       "      <td>No</td>\n",
       "      <td>No</td>\n",
       "      <td>No</td>\n",
       "      <td>No</td>\n",
       "      <td>0</td>\n",
       "      <td>Household without Children</td>\n",
       "      <td>Individual</td>\n",
       "      <td>NaN</td>\n",
       "      <td>299</td>\n",
       "    </tr>\n",
       "    <tr>\n",
       "      <th>2</th>\n",
       "      <td>AbS - Abode Services</td>\n",
       "      <td>45 to 54</td>\n",
       "      <td>Non-Hispanic/Non-Latino</td>\n",
       "      <td>White</td>\n",
       "      <td>No</td>\n",
       "      <td>NaN</td>\n",
       "      <td>139</td>\n",
       "      <td>6/29/2018</td>\n",
       "      <td>11/15/2018</td>\n",
       "      <td>Place not meant for habitation</td>\n",
       "      <td>...</td>\n",
       "      <td>No Income</td>\n",
       "      <td>No</td>\n",
       "      <td>No</td>\n",
       "      <td>No</td>\n",
       "      <td>No</td>\n",
       "      <td>0</td>\n",
       "      <td>Household without Children</td>\n",
       "      <td>Individual</td>\n",
       "      <td>NaN</td>\n",
       "      <td>139</td>\n",
       "    </tr>\n",
       "    <tr>\n",
       "      <th>3</th>\n",
       "      <td>BACS - Bay Area Community Services</td>\n",
       "      <td>25 to 34</td>\n",
       "      <td>Non-Hispanic/Non-Latino</td>\n",
       "      <td>White</td>\n",
       "      <td>No</td>\n",
       "      <td>NaN</td>\n",
       "      <td>103</td>\n",
       "      <td>6/29/2018</td>\n",
       "      <td>10/10/2018</td>\n",
       "      <td>Emergency Shelter, including hotel/motel paid ...</td>\n",
       "      <td>...</td>\n",
       "      <td>Income</td>\n",
       "      <td>No</td>\n",
       "      <td>No</td>\n",
       "      <td>No</td>\n",
       "      <td>No</td>\n",
       "      <td>0</td>\n",
       "      <td>Household without Children</td>\n",
       "      <td>Individual</td>\n",
       "      <td>NaN</td>\n",
       "      <td>103</td>\n",
       "    </tr>\n",
       "    <tr>\n",
       "      <th>4</th>\n",
       "      <td>BACS - Bay Area Community Services</td>\n",
       "      <td>35 to 44</td>\n",
       "      <td>Hispanic/Latino</td>\n",
       "      <td>White</td>\n",
       "      <td>No</td>\n",
       "      <td>NaN</td>\n",
       "      <td>103</td>\n",
       "      <td>6/29/2018</td>\n",
       "      <td>10/10/2018</td>\n",
       "      <td>Place not meant for habitation</td>\n",
       "      <td>...</td>\n",
       "      <td>Income</td>\n",
       "      <td>No</td>\n",
       "      <td>No</td>\n",
       "      <td>Yes</td>\n",
       "      <td>No</td>\n",
       "      <td>0</td>\n",
       "      <td>Household without Children</td>\n",
       "      <td>Individual</td>\n",
       "      <td>NaN</td>\n",
       "      <td>103</td>\n",
       "    </tr>\n",
       "    <tr>\n",
       "      <th>6</th>\n",
       "      <td>BACS - Bay Area Community Services</td>\n",
       "      <td>65 or Above</td>\n",
       "      <td>Non-Hispanic/Non-Latino</td>\n",
       "      <td>White</td>\n",
       "      <td>Yes</td>\n",
       "      <td>NaN</td>\n",
       "      <td>199</td>\n",
       "      <td>6/29/2018</td>\n",
       "      <td>1/14/2019</td>\n",
       "      <td>Place not meant for habitation</td>\n",
       "      <td>...</td>\n",
       "      <td>Income</td>\n",
       "      <td>No</td>\n",
       "      <td>Yes</td>\n",
       "      <td>No</td>\n",
       "      <td>No</td>\n",
       "      <td>0</td>\n",
       "      <td>Household without Children</td>\n",
       "      <td>Individual</td>\n",
       "      <td>NaN</td>\n",
       "      <td>199</td>\n",
       "    </tr>\n",
       "    <tr>\n",
       "      <th>...</th>\n",
       "      <td>...</td>\n",
       "      <td>...</td>\n",
       "      <td>...</td>\n",
       "      <td>...</td>\n",
       "      <td>...</td>\n",
       "      <td>...</td>\n",
       "      <td>...</td>\n",
       "      <td>...</td>\n",
       "      <td>...</td>\n",
       "      <td>...</td>\n",
       "      <td>...</td>\n",
       "      <td>...</td>\n",
       "      <td>...</td>\n",
       "      <td>...</td>\n",
       "      <td>...</td>\n",
       "      <td>...</td>\n",
       "      <td>...</td>\n",
       "      <td>...</td>\n",
       "      <td>...</td>\n",
       "      <td>...</td>\n",
       "      <td>...</td>\n",
       "    </tr>\n",
       "    <tr>\n",
       "      <th>77792</th>\n",
       "      <td>CoB - City of Berkeley</td>\n",
       "      <td>65 or Above</td>\n",
       "      <td>Non-Hispanic/Non-Latino</td>\n",
       "      <td>White</td>\n",
       "      <td>No</td>\n",
       "      <td>383</td>\n",
       "      <td>8531</td>\n",
       "      <td>12/15/1995</td>\n",
       "      <td>NaN</td>\n",
       "      <td>Emergency Shelter, including hotel/motel paid ...</td>\n",
       "      <td>...</td>\n",
       "      <td>Income</td>\n",
       "      <td>No</td>\n",
       "      <td>No</td>\n",
       "      <td>No</td>\n",
       "      <td>No</td>\n",
       "      <td>0</td>\n",
       "      <td>Household without Children</td>\n",
       "      <td>Individual</td>\n",
       "      <td>383.0</td>\n",
       "      <td>8531</td>\n",
       "    </tr>\n",
       "    <tr>\n",
       "      <th>77795</th>\n",
       "      <td>ACHCD - Housing and Community Development</td>\n",
       "      <td>45 to 54</td>\n",
       "      <td>Non-Hispanic/Non-Latino</td>\n",
       "      <td>White</td>\n",
       "      <td>No</td>\n",
       "      <td>0</td>\n",
       "      <td>8819</td>\n",
       "      <td>3/2/1995</td>\n",
       "      <td>NaN</td>\n",
       "      <td>Place not meant for habitation</td>\n",
       "      <td>...</td>\n",
       "      <td>Income</td>\n",
       "      <td>No</td>\n",
       "      <td>Yes</td>\n",
       "      <td>Yes</td>\n",
       "      <td>No</td>\n",
       "      <td>0</td>\n",
       "      <td>Household without Children</td>\n",
       "      <td>Individual</td>\n",
       "      <td>0.0</td>\n",
       "      <td>8819</td>\n",
       "    </tr>\n",
       "    <tr>\n",
       "      <th>77796</th>\n",
       "      <td>BOSS - Building Opportunities for Self Suffici...</td>\n",
       "      <td>65 or Above</td>\n",
       "      <td>Non-Hispanic/Non-Latino</td>\n",
       "      <td>White</td>\n",
       "      <td>No</td>\n",
       "      <td>-2</td>\n",
       "      <td>7030</td>\n",
       "      <td>8/7/1994</td>\n",
       "      <td>11/5/2013</td>\n",
       "      <td>Permanent housing (other than RRH) for formerl...</td>\n",
       "      <td>...</td>\n",
       "      <td>Income</td>\n",
       "      <td>No</td>\n",
       "      <td>No</td>\n",
       "      <td>Yes</td>\n",
       "      <td>No</td>\n",
       "      <td>0</td>\n",
       "      <td>Household without Children</td>\n",
       "      <td>Individual</td>\n",
       "      <td>-2.0</td>\n",
       "      <td>7030</td>\n",
       "    </tr>\n",
       "    <tr>\n",
       "      <th>77797</th>\n",
       "      <td>BOSS - Building Opportunities for Self Suffici...</td>\n",
       "      <td>65 or Above</td>\n",
       "      <td>Non-Hispanic/Non-Latino</td>\n",
       "      <td>White</td>\n",
       "      <td>No</td>\n",
       "      <td>-2</td>\n",
       "      <td>9026</td>\n",
       "      <td>8/7/1994</td>\n",
       "      <td>NaN</td>\n",
       "      <td>Permanent housing (other than RRH) for formerl...</td>\n",
       "      <td>...</td>\n",
       "      <td>Income</td>\n",
       "      <td>No</td>\n",
       "      <td>No</td>\n",
       "      <td>Yes</td>\n",
       "      <td>No</td>\n",
       "      <td>0</td>\n",
       "      <td>Household without Children</td>\n",
       "      <td>Individual</td>\n",
       "      <td>-2.0</td>\n",
       "      <td>9026</td>\n",
       "    </tr>\n",
       "    <tr>\n",
       "      <th>77800</th>\n",
       "      <td>ACHCD - Housing and Community Development</td>\n",
       "      <td>45 to 54</td>\n",
       "      <td>Hispanic/Latino</td>\n",
       "      <td>White</td>\n",
       "      <td>No</td>\n",
       "      <td>0</td>\n",
       "      <td>9493</td>\n",
       "      <td>4/27/1993</td>\n",
       "      <td>NaN</td>\n",
       "      <td>Place not meant for habitation</td>\n",
       "      <td>...</td>\n",
       "      <td>Income</td>\n",
       "      <td>No</td>\n",
       "      <td>No</td>\n",
       "      <td>No</td>\n",
       "      <td>No</td>\n",
       "      <td>0</td>\n",
       "      <td>Household without Children</td>\n",
       "      <td>Individual</td>\n",
       "      <td>0.0</td>\n",
       "      <td>9493</td>\n",
       "    </tr>\n",
       "  </tbody>\n",
       "</table>\n",
       "<p>19914 rows × 43 columns</p>\n",
       "</div>"
      ],
      "text/plain": [
       "                                    Agencies Agency Name Clients Age Tier  \\\n",
       "0                                   AbS - Abode Services         45 to 54   \n",
       "2                                   AbS - Abode Services         45 to 54   \n",
       "3                     BACS - Bay Area Community Services         25 to 34   \n",
       "4                     BACS - Bay Area Community Services         35 to 44   \n",
       "6                     BACS - Bay Area Community Services      65 or Above   \n",
       "...                                                  ...              ...   \n",
       "77792                             CoB - City of Berkeley      65 or Above   \n",
       "77795          ACHCD - Housing and Community Development         45 to 54   \n",
       "77796  BOSS - Building Opportunities for Self Suffici...      65 or Above   \n",
       "77797  BOSS - Building Opportunities for Self Suffici...      65 or Above   \n",
       "77800          ACHCD - Housing and Community Development         45 to 54   \n",
       "\n",
       "             Clients Ethnicity Clients Race Clients Veteran Status  \\\n",
       "0              Hispanic/Latino        White                     No   \n",
       "2      Non-Hispanic/Non-Latino        White                     No   \n",
       "3      Non-Hispanic/Non-Latino        White                     No   \n",
       "4              Hispanic/Latino        White                     No   \n",
       "6      Non-Hispanic/Non-Latino        White                    Yes   \n",
       "...                        ...          ...                    ...   \n",
       "77792  Non-Hispanic/Non-Latino        White                     No   \n",
       "77795  Non-Hispanic/Non-Latino        White                     No   \n",
       "77796  Non-Hispanic/Non-Latino        White                     No   \n",
       "77797  Non-Hispanic/Non-Latino        White                     No   \n",
       "77800          Hispanic/Latino        White                     No   \n",
       "\n",
       "      Enrollments Days from Project Start to Move-In  \\\n",
       "0                                                NaN   \n",
       "2                                                NaN   \n",
       "3                                                NaN   \n",
       "4                                                NaN   \n",
       "6                                                NaN   \n",
       "...                                              ...   \n",
       "77792                                            383   \n",
       "77795                                              0   \n",
       "77796                                             -2   \n",
       "77797                                             -2   \n",
       "77800                                              0   \n",
       "\n",
       "       Enrollments Days in Project Enrollments Project Start Date  \\\n",
       "0                              299                      6/29/2018   \n",
       "2                              139                      6/29/2018   \n",
       "3                              103                      6/29/2018   \n",
       "4                              103                      6/29/2018   \n",
       "6                              199                      6/29/2018   \n",
       "...                            ...                            ...   \n",
       "77792                         8531                     12/15/1995   \n",
       "77795                         8819                       3/2/1995   \n",
       "77796                         7030                       8/7/1994   \n",
       "77797                         9026                       8/7/1994   \n",
       "77800                         9493                      4/27/1993   \n",
       "\n",
       "      Enrollments Project Exit Date  \\\n",
       "0                               NaN   \n",
       "2                        11/15/2018   \n",
       "3                        10/10/2018   \n",
       "4                        10/10/2018   \n",
       "6                         1/14/2019   \n",
       "...                             ...   \n",
       "77792                           NaN   \n",
       "77795                           NaN   \n",
       "77796                     11/5/2013   \n",
       "77797                           NaN   \n",
       "77800                           NaN   \n",
       "\n",
       "           Entry Screen Residence Prior to Project Entry  ...  \\\n",
       "0      Rental by client, with other housing subsidy (...  ...   \n",
       "2                         Place not meant for habitation  ...   \n",
       "3      Emergency Shelter, including hotel/motel paid ...  ...   \n",
       "4                         Place not meant for habitation  ...   \n",
       "6                         Place not meant for habitation  ...   \n",
       "...                                                  ...  ...   \n",
       "77792  Emergency Shelter, including hotel/motel paid ...  ...   \n",
       "77795                     Place not meant for habitation  ...   \n",
       "77796  Permanent housing (other than RRH) for formerl...  ...   \n",
       "77797  Permanent housing (other than RRH) for formerl...  ...   \n",
       "77800                     Place not meant for habitation  ...   \n",
       "\n",
       "      Entry Screen Income from any Source  \\\n",
       "0                                  Income   \n",
       "2                               No Income   \n",
       "3                                  Income   \n",
       "4                                  Income   \n",
       "6                                  Income   \n",
       "...                                   ...   \n",
       "77792                              Income   \n",
       "77795                              Income   \n",
       "77796                              Income   \n",
       "77797                              Income   \n",
       "77800                              Income   \n",
       "\n",
       "      Entry Screen Pension or retirement income from a former job (Yes / No)  \\\n",
       "0                                                     No                       \n",
       "2                                                     No                       \n",
       "3                                                     No                       \n",
       "4                                                     No                       \n",
       "6                                                     No                       \n",
       "...                                                  ...                       \n",
       "77792                                                 No                       \n",
       "77795                                                 No                       \n",
       "77796                                                 No                       \n",
       "77797                                                 No                       \n",
       "77800                                                 No                       \n",
       "\n",
       "      Entry Screen Social Security Retirement Income (Yes / No)  \\\n",
       "0                                                     No          \n",
       "2                                                     No          \n",
       "3                                                     No          \n",
       "4                                                     No          \n",
       "6                                                    Yes          \n",
       "...                                                  ...          \n",
       "77792                                                 No          \n",
       "77795                                                Yes          \n",
       "77796                                                 No          \n",
       "77797                                                 No          \n",
       "77800                                                 No          \n",
       "\n",
       "      Entry Screen SSI (Yes / No) Entry Screen TANF (Yes / No)  \\\n",
       "0                              No                           No   \n",
       "2                              No                           No   \n",
       "3                              No                           No   \n",
       "4                             Yes                           No   \n",
       "6                              No                           No   \n",
       "...                           ...                          ...   \n",
       "77792                          No                           No   \n",
       "77795                         Yes                           No   \n",
       "77796                         Yes                           No   \n",
       "77797                         Yes                           No   \n",
       "77800                          No                           No   \n",
       "\n",
       "      Enrollments Count Children  Enrollments Household Type  \\\n",
       "0                              0  Household without Children   \n",
       "2                              0  Household without Children   \n",
       "3                              0  Household without Children   \n",
       "4                              0  Household without Children   \n",
       "6                              0  Household without Children   \n",
       "...                          ...                         ...   \n",
       "77792                          0  Household without Children   \n",
       "77795                          0  Household without Children   \n",
       "77796                          0  Household without Children   \n",
       "77797                          0  Household without Children   \n",
       "77800                          0  Household without Children   \n",
       "\n",
       "      Enrollments Individual or Family  \\\n",
       "0                           Individual   \n",
       "2                           Individual   \n",
       "3                           Individual   \n",
       "4                           Individual   \n",
       "6                           Individual   \n",
       "...                                ...   \n",
       "77792                       Individual   \n",
       "77795                       Individual   \n",
       "77796                       Individual   \n",
       "77797                       Individual   \n",
       "77800                       Individual   \n",
       "\n",
       "      Enrollments Average Days from Project Start to Move-In  \\\n",
       "0                                                    NaN       \n",
       "2                                                    NaN       \n",
       "3                                                    NaN       \n",
       "4                                                    NaN       \n",
       "6                                                    NaN       \n",
       "...                                                  ...       \n",
       "77792                                              383.0       \n",
       "77795                                                0.0       \n",
       "77796                                               -2.0       \n",
       "77797                                               -2.0       \n",
       "77800                                                0.0       \n",
       "\n",
       "      Enrollments Average Days in Project  \n",
       "0                                     299  \n",
       "2                                     139  \n",
       "3                                     103  \n",
       "4                                     103  \n",
       "6                                     199  \n",
       "...                                   ...  \n",
       "77792                                8531  \n",
       "77795                                8819  \n",
       "77796                                7030  \n",
       "77797                                9026  \n",
       "77800                                9493  \n",
       "\n",
       "[19914 rows x 43 columns]"
      ]
     },
     "execution_count": 46,
     "metadata": {},
     "output_type": "execute_result"
    }
   ],
   "source": [
    "dfWhite=df1.loc[df['Clients Race'] == \"White\"]\n",
    "dfWhite"
   ]
  },
  {
   "cell_type": "code",
   "execution_count": 47,
   "metadata": {},
   "outputs": [
    {
     "data": {
      "text/plain": [
       "0        White\n",
       "2        White\n",
       "3        White\n",
       "4        White\n",
       "6        White\n",
       "         ...  \n",
       "77792    White\n",
       "77795    White\n",
       "77796    White\n",
       "77797    White\n",
       "77800    White\n",
       "Name: Clients Race, Length: 19914, dtype: object"
      ]
     },
     "execution_count": 47,
     "metadata": {},
     "output_type": "execute_result"
    }
   ],
   "source": [
    "dfWhite[\"Clients Race\"]"
   ]
  },
  {
   "cell_type": "code",
   "execution_count": 48,
   "metadata": {},
   "outputs": [
    {
     "data": {
      "text/plain": [
       "500.8672290850658"
      ]
     },
     "execution_count": 48,
     "metadata": {},
     "output_type": "execute_result"
    }
   ],
   "source": [
    "dfWhite[\"Enrollments Days in Project\"].mean()"
   ]
  },
  {
   "cell_type": "code",
   "execution_count": 49,
   "metadata": {},
   "outputs": [
    {
     "data": {
      "text/plain": [
       "420.86743904389755"
      ]
     },
     "execution_count": 49,
     "metadata": {},
     "output_type": "execute_result"
    }
   ],
   "source": [
    "dfBlackorAA=df1.loc[df['Clients Race'] == \"Black or African American\"]\n",
    "dfBlackorAA[\"Enrollments Days in Project\"].mean()"
   ]
  },
  {
   "cell_type": "code",
   "execution_count": 50,
   "metadata": {},
   "outputs": [
    {
     "data": {
      "text/plain": [
       "455.8663075416259"
      ]
     },
     "execution_count": 50,
     "metadata": {},
     "output_type": "execute_result"
    }
   ],
   "source": [
    "dfAIorAN=df1.loc[df['Clients Race'] == \"American Indian or Alaska Native\"]\n",
    "dfAIorAN[\"Enrollments Days in Project\"].mean()"
   ]
  },
  {
   "cell_type": "code",
   "execution_count": 51,
   "metadata": {},
   "outputs": [
    {
     "data": {
      "text/plain": [
       "430.5820036620455"
      ]
     },
     "execution_count": 51,
     "metadata": {},
     "output_type": "execute_result"
    }
   ],
   "source": [
    "dfMultiR=df1.loc[df['Clients Race'] == \"Multi-racial\"]\n",
    "dfMultiR[\"Enrollments Days in Project\"].mean()"
   ]
  },
  {
   "cell_type": "code",
   "execution_count": 52,
   "metadata": {},
   "outputs": [
    {
     "data": {
      "text/plain": [
       "398.5670731707317"
      ]
     },
     "execution_count": 52,
     "metadata": {},
     "output_type": "execute_result"
    }
   ],
   "source": [
    "dfNHorPI=df1.loc[df['Clients Race'] == \"Native Hawaiian or Other Pacific Islander\"]\n",
    "dfNHorPI[\"Enrollments Days in Project\"].mean()"
   ]
  },
  {
   "cell_type": "code",
   "execution_count": 53,
   "metadata": {
    "scrolled": true
   },
   "outputs": [
    {
     "data": {
      "text/plain": [
       "483.5152253349574"
      ]
     },
     "execution_count": 53,
     "metadata": {},
     "output_type": "execute_result"
    }
   ],
   "source": [
    "dfMultiR=df1.loc[df['Clients Race'] == \"Asian\"]\n",
    "dfMultiR[\"Enrollments Days in Project\"].mean()"
   ]
  },
  {
   "cell_type": "code",
   "execution_count": 54,
   "metadata": {},
   "outputs": [
    {
     "data": {
      "text/html": [
       "<div>\n",
       "<style scoped>\n",
       "    .dataframe tbody tr th:only-of-type {\n",
       "        vertical-align: middle;\n",
       "    }\n",
       "\n",
       "    .dataframe tbody tr th {\n",
       "        vertical-align: top;\n",
       "    }\n",
       "\n",
       "    .dataframe thead th {\n",
       "        text-align: right;\n",
       "    }\n",
       "</style>\n",
       "<table border=\"1\" class=\"dataframe\">\n",
       "  <thead>\n",
       "    <tr style=\"text-align: right;\">\n",
       "      <th></th>\n",
       "      <th>Clients Race</th>\n",
       "    </tr>\n",
       "  </thead>\n",
       "  <tbody>\n",
       "    <tr>\n",
       "      <th>White</th>\n",
       "      <td>500.86</td>\n",
       "    </tr>\n",
       "    <tr>\n",
       "      <th>Black or African American</th>\n",
       "      <td>420.87</td>\n",
       "    </tr>\n",
       "    <tr>\n",
       "      <th>American Indian or Alaska Native</th>\n",
       "      <td>455.87</td>\n",
       "    </tr>\n",
       "    <tr>\n",
       "      <th>Multi-racial</th>\n",
       "      <td>430.58</td>\n",
       "    </tr>\n",
       "    <tr>\n",
       "      <th>Native Hawaiian or Other Pacific Islander</th>\n",
       "      <td>398.57</td>\n",
       "    </tr>\n",
       "    <tr>\n",
       "      <th>Asian</th>\n",
       "      <td>483.52</td>\n",
       "    </tr>\n",
       "  </tbody>\n",
       "</table>\n",
       "</div>"
      ],
      "text/plain": [
       "                                           Clients Race\n",
       "White                                            500.86\n",
       "Black or African American                        420.87\n",
       "American Indian or Alaska Native                 455.87\n",
       "Multi-racial                                     430.58\n",
       "Native Hawaiian or Other Pacific Islander        398.57\n",
       "Asian                                            483.52"
      ]
     },
     "execution_count": 54,
     "metadata": {},
     "output_type": "execute_result"
    }
   ],
   "source": [
    "AverageDaysforRaceTable = pd.DataFrame({\"Clients Race\": [500.86, 420.87, 455.87, 430.58, 398.57, 483.52]},\n",
    "                  index=[\"White\", \"Black or African American\", \"American Indian or Alaska Native\", \"Multi-racial\",\n",
    "                        \"Native Hawaiian or Other Pacific Islander\",\"Asian\"])\n",
    "AverageDaysforRaceTable"
   ]
  },
  {
   "cell_type": "code",
   "execution_count": 55,
   "metadata": {},
   "outputs": [
    {
     "data": {
      "text/plain": [
       "Text(0.5, 1.0, 'Average Enrolled Days for Each Race of Clients')"
      ]
     },
     "execution_count": 55,
     "metadata": {},
     "output_type": "execute_result"
    },
    {
     "data": {
      "image/png": "[encoded data removed]",
      "text/plain": [
       "<Figure size 432x288 with 1 Axes>"
      ]
     },
     "metadata": {
      "needs_background": "light"
     },
     "output_type": "display_data"
    }
   ],
   "source": [
    "AverageDaysforRaceTable.plot.bar(rot=85, color=['darkcyan'])\n",
    "plt.title(\"Average Enrolled Days for Each Race of Clients\")"
   ]
  },
  {
   "cell_type": "code",
   "execution_count": 56,
   "metadata": {},
   "outputs": [],
   "source": [
    "df1[\"Clients Race\"].replace({\"White\": \"1\",\"Black or African American\":\"2\",\n",
    "                           \"American Indian or Alaska Native\": \"3\", \"Multi-racial\": \"4\",\n",
    "                           \"Native Hawaiian or Other Pacific Islander\": \"5\", \"Asian\": \"6\", \"Client doesn't Know\": \"7\", \"Client Refused\":\"8\"\n",
    "                           ,\"Data Not Collected\":\"9\" }, inplace=True)"
   ]
  },
  {
   "cell_type": "code",
   "execution_count": 57,
   "metadata": {},
   "outputs": [
    {
     "data": {
      "text/plain": [
       "0        1\n",
       "1        2\n",
       "2        1\n",
       "3        1\n",
       "4        1\n",
       "        ..\n",
       "77796    1\n",
       "77797    1\n",
       "77798    2\n",
       "77799    2\n",
       "77800    1\n",
       "Name: Clients Race, Length: 77801, dtype: object"
      ]
     },
     "execution_count": 57,
     "metadata": {},
     "output_type": "execute_result"
    }
   ],
   "source": [
    "df1[\"Clients Race\"]"
   ]
  },
  {
   "cell_type": "code",
   "execution_count": 58,
   "metadata": {},
   "outputs": [],
   "source": [
    "df1['Clients Race'] = df1['Clients Race'].fillna(0)\n",
    "df1['Enrollments Days in Project'] = df1['Enrollments Days in Project'].fillna(0)\n",
    "df1['Outbound Recidivism Days Until Next Entry'] = df1['Outbound Recidivism Days Until Next Entry'].fillna(0)"
   ]
  },
  {
   "cell_type": "code",
   "execution_count": 59,
   "metadata": {},
   "outputs": [],
   "source": [
    "df1 = df1.replace(',','', regex=True)"
   ]
  },
  {
   "cell_type": "code",
   "execution_count": 60,
   "metadata": {
    "scrolled": true
   },
   "outputs": [
    {
     "name": "stdout",
     "output_type": "stream",
     "text": [
      "[-0.00681885  1.90693153]\n"
     ]
    }
   ],
   "source": [
    "X = df1[['Enrollments Days in Project', 'Clients Race']]\n",
    "y = df1['Outbound Recidivism Days Until Next Entry']\n",
    "\n",
    "regr = linear_model.LinearRegression()\n",
    "regr.fit(X, y)\n",
    "\n",
    "print(regr.coef_)"
   ]
  },
  {
   "cell_type": "code",
   "execution_count": 61,
   "metadata": {
    "scrolled": true
   },
   "outputs": [
    {
     "name": "stdout",
     "output_type": "stream",
     "text": [
      "[36.4191652]\n"
     ]
    }
   ],
   "source": [
    "X = df1[['Enrollments Days in Project', 'Clients Race']]\n",
    "y = df1['Outbound Recidivism Days Until Next Entry']\n",
    "\n",
    "regr = linear_model.LinearRegression()\n",
    "regr.fit(X, y)\n",
    "\n",
    "predictedORDUNEWhite = regr.predict([[500.86, 1]])\n",
    "\n",
    "print(predictedORDUNEWhite)"
   ]
  },
  {
   "cell_type": "code",
   "execution_count": 62,
   "metadata": {},
   "outputs": [
    {
     "name": "stdout",
     "output_type": "stream",
     "text": [
      "[38.87153645]\n"
     ]
    }
   ],
   "source": [
    "X = df1[['Enrollments Days in Project', 'Clients Race']]\n",
    "y = df1['Outbound Recidivism Days Until Next Entry']\n",
    "\n",
    "regr = linear_model.LinearRegression()\n",
    "regr.fit(X, y)\n",
    "\n",
    "predictedORDUNEBlackorAA = regr.predict([[420.87, 2]])\n",
    "\n",
    "print(predictedORDUNEBlackorAA)"
   ]
  },
  {
   "cell_type": "code",
   "execution_count": 63,
   "metadata": {},
   "outputs": [
    {
     "name": "stdout",
     "output_type": "stream",
     "text": [
      "[40.53980826]\n"
     ]
    }
   ],
   "source": [
    "X = df1[['Enrollments Days in Project', 'Clients Race']]\n",
    "y = df1['Outbound Recidivism Days Until Next Entry']\n",
    "\n",
    "regr = linear_model.LinearRegression()\n",
    "regr.fit(X, y)\n",
    "\n",
    "predictedORDUNEAIorAN = regr.predict([[455.87, 3]])\n",
    "\n",
    "print(predictedORDUNEAIorAN)"
   ]
  },
  {
   "cell_type": "code",
   "execution_count": 64,
   "metadata": {},
   "outputs": [
    {
     "name": "stdout",
     "output_type": "stream",
     "text": [
      "[42.61918848]\n"
     ]
    }
   ],
   "source": [
    "X = df1[['Enrollments Days in Project', 'Clients Race']]\n",
    "y = df1['Outbound Recidivism Days Until Next Entry']\n",
    "\n",
    "regr = linear_model.LinearRegression()\n",
    "regr.fit(X, y)\n",
    "\n",
    "predictedORDUNEMR = regr.predict([[430.58, 4]])\n",
    "\n",
    "print(predictedORDUNEMR)"
   ]
  },
  {
   "cell_type": "code",
   "execution_count": 65,
   "metadata": {},
   "outputs": [
    {
     "name": "stdout",
     "output_type": "stream",
     "text": [
      "[44.74439136]\n"
     ]
    }
   ],
   "source": [
    "X = df1[['Enrollments Days in Project', 'Clients Race']]\n",
    "y = df1['Outbound Recidivism Days Until Next Entry']\n",
    "\n",
    "regr = linear_model.LinearRegression()\n",
    "regr.fit(X, y)\n",
    "\n",
    "predictedORDUNENHorPI = regr.predict([[398.57, 5]])\n",
    "\n",
    "print(predictedORDUNENHorPI)"
   ]
  },
  {
   "cell_type": "code",
   "execution_count": 66,
   "metadata": {},
   "outputs": [
    {
     "name": "stdout",
     "output_type": "stream",
     "text": [
      "[46.07206167]\n"
     ]
    }
   ],
   "source": [
    "X = df1[['Enrollments Days in Project', 'Clients Race']]\n",
    "y = df1['Outbound Recidivism Days Until Next Entry']\n",
    "\n",
    "regr = linear_model.LinearRegression()\n",
    "regr.fit(X, y)\n",
    "\n",
    "predictedORDUNEAsian = regr.predict([[483.52, 6]])\n",
    "\n",
    "print(predictedORDUNEAsian)"
   ]
  },
  {
   "cell_type": "code",
   "execution_count": 67,
   "metadata": {},
   "outputs": [
    {
     "data": {
      "text/html": [
       "<div>\n",
       "<style scoped>\n",
       "    .dataframe tbody tr th:only-of-type {\n",
       "        vertical-align: middle;\n",
       "    }\n",
       "\n",
       "    .dataframe tbody tr th {\n",
       "        vertical-align: top;\n",
       "    }\n",
       "\n",
       "    .dataframe thead th {\n",
       "        text-align: right;\n",
       "    }\n",
       "</style>\n",
       "<table border=\"1\" class=\"dataframe\">\n",
       "  <thead>\n",
       "    <tr style=\"text-align: right;\">\n",
       "      <th></th>\n",
       "      <th>Clients Race</th>\n",
       "    </tr>\n",
       "  </thead>\n",
       "  <tbody>\n",
       "    <tr>\n",
       "      <th>White</th>\n",
       "      <td>36.42</td>\n",
       "    </tr>\n",
       "    <tr>\n",
       "      <th>Black or African American</th>\n",
       "      <td>38.87</td>\n",
       "    </tr>\n",
       "    <tr>\n",
       "      <th>American Indian or Alaska Native</th>\n",
       "      <td>40.54</td>\n",
       "    </tr>\n",
       "    <tr>\n",
       "      <th>Multi-racial</th>\n",
       "      <td>42.62</td>\n",
       "    </tr>\n",
       "    <tr>\n",
       "      <th>Native Hawaiian or Other Pacific Islander</th>\n",
       "      <td>44.74</td>\n",
       "    </tr>\n",
       "    <tr>\n",
       "      <th>Asian</th>\n",
       "      <td>46.07</td>\n",
       "    </tr>\n",
       "  </tbody>\n",
       "</table>\n",
       "</div>"
      ],
      "text/plain": [
       "                                           Clients Race\n",
       "White                                             36.42\n",
       "Black or African American                         38.87\n",
       "American Indian or Alaska Native                  40.54\n",
       "Multi-racial                                      42.62\n",
       "Native Hawaiian or Other Pacific Islander         44.74\n",
       "Asian                                             46.07"
      ]
     },
     "execution_count": 67,
     "metadata": {},
     "output_type": "execute_result"
    }
   ],
   "source": [
    "PredicitonofOutboundRecidivismDaysUntilNextEntry = pd.DataFrame({\"Clients Race\": [36.42, 38.87, 40.54, 42.62, 44.74, 46.07]},\n",
    "                  index=[\"White\", \"Black or African American\", \"American Indian or Alaska Native\", \"Multi-racial\",\n",
    "                        \"Native Hawaiian or Other Pacific Islander\",\"Asian\"])\n",
    "PredicitonofOutboundRecidivismDaysUntilNextEntry"
   ]
  },
  {
   "cell_type": "code",
   "execution_count": 68,
   "metadata": {},
   "outputs": [
    {
     "data": {
      "text/plain": [
       "<matplotlib.legend.Legend at 0x120e25fd0>"
      ]
     },
     "execution_count": 68,
     "metadata": {},
     "output_type": "execute_result"
    },
    {
     "data": {
      "image/png": "[encoded data removed]",
      "text/plain": [
       "<Figure size 432x288 with 1 Axes>"
      ]
     },
     "metadata": {
      "needs_background": "light"
     },
     "output_type": "display_data"
    }
   ],
   "source": [
    "PredicitonofOutboundRecidivismDaysUntilNextEntry.plot.barh(rot=0, color=['lightsalmon'])\n",
    "plt.title(\"Prediciton of Outbound Recidivism Days Until Next Entry for Each Race\")\n",
    "plt.legend(loc='lower right')"
   ]
  },
  {
   "cell_type": "markdown",
   "metadata": {},
   "source": [
    "Question B"
   ]
  },
  {
   "cell_type": "code",
   "execution_count": 69,
   "metadata": {},
   "outputs": [
    {
     "name": "stdout",
     "output_type": "stream",
     "text": [
      "['AbS - Abode Services' 'BACS - Bay Area Community Services'\n",
      " 'BFHP - Berkeley Food and Housing Project'\n",
      " 'BFWC - Building Futures with Women and Children'\n",
      " 'BOSS - Building Opportunities for Self Sufficiency'\n",
      " 'CH - Covenant House' 'EOCP - East Oakland Community Project'\n",
      " 'FESCO - Family Emergency Shelter Coalition' 'OD - Operation Dignity'\n",
      " 'ORS - Options Recovery Services'\n",
      " 'ACHCD - Housing and Community Development'\n",
      " 'FPFY - First Place for Youth' 'CoB - City of Berkeley'\n",
      " \"WDDC - Women's Daytime Drop In Center\" 'HAC - Homeless Action Center'\n",
      " 'LMC - Lifelong Medical Care' 'StP - Swords to Plowshares'\n",
      " 'APC - Alameda Point Collaborative' 'FF - Fred Finch Youth Center'\n",
      " 'CE - Coordinated Entry' \"SMC - St. Mary's Center\"\n",
      " 'NMCH - Alameda County Network of Mental Health Clients'\n",
      " 'SC - Second Chance' 'SAHA - Satellite Affordable Housing Associates'\n",
      " 'SVdP - St Vincent de Paul' 'EBCRP - East Bay Community Recovery Project'\n",
      " 'YAFF - Yvette A Flunder Foundation' 'BH - Bonita House'\n",
      " 'RPI - Rubicon Programs, Inc.' 'SHP - South Hayward Parish'\n",
      " 'GI - Goodwill Industries of the Greater East Bay'\n",
      " 'EBCLC - East Bay Community Law Center'\n",
      " 'ABH - Anka Behavioral Health, inc.' 'CoO - City of Oakland']\n",
      "<class 'numpy.ndarray'>\n"
     ]
    }
   ],
   "source": [
    "print(df['Agencies Agency Name'].unique())\n",
    "print(type(df['Agencies Agency Name'].unique()))"
   ]
  },
  {
   "cell_type": "code",
   "execution_count": 70,
   "metadata": {},
   "outputs": [
    {
     "data": {
      "text/plain": [
       "AbS - Abode Services                                      11095\n",
       "CE - Coordinated Entry                                     8033\n",
       "BFHP - Berkeley Food and Housing Project                   7309\n",
       "EOCP - East Oakland Community Project                      6965\n",
       "BOSS - Building Opportunities for Self Sufficiency         4987\n",
       "OD - Operation Dignity                                     4891\n",
       "ORS - Options Recovery Services                            3693\n",
       "BFWC - Building Futures with Women and Children            3597\n",
       "WDDC - Women's Daytime Drop In Center                      3228\n",
       "CH - Covenant House                                        2861\n",
       "GI - Goodwill Industries of the Greater East Bay           2551\n",
       "APC - Alameda Point Collaborative                          2052\n",
       "BACS - Bay Area Community Services                         1749\n",
       "SMC - St. Mary's Center                                    1542\n",
       "RPI - Rubicon Programs, Inc.                               1512\n",
       "LMC - Lifelong Medical Care                                1499\n",
       "FESCO - Family Emergency Shelter Coalition                 1406\n",
       "ACHCD - Housing and Community Development                  1343\n",
       "NMCH - Alameda County Network of Mental Health Clients     1331\n",
       "SVdP - St Vincent de Paul                                  1242\n",
       "FPFY - First Place for Youth                               1141\n",
       "EBCRP - East Bay Community Recovery Project                 857\n",
       "ABH - Anka Behavioral Health, inc.                          797\n",
       "CoB - City of Berkeley                                      728\n",
       "StP - Swords to Plowshares                                  410\n",
       "SC - Second Chance                                          273\n",
       "HAC - Homeless Action Center                                175\n",
       "EBCLC - East Bay Community Law Center                       173\n",
       "FF - Fred Finch Youth Center                                125\n",
       "BH - Bonita House                                            88\n",
       "CoO - City of Oakland                                        73\n",
       "SHP - South Hayward Parish                                   37\n",
       "YAFF - Yvette A Flunder Foundation                           31\n",
       "SAHA - Satellite Affordable Housing Associates                7\n",
       "Name: Agencies Agency Name, dtype: int64"
      ]
     },
     "execution_count": 70,
     "metadata": {},
     "output_type": "execute_result"
    }
   ],
   "source": [
    "df.groupby(\"Agencies Agency Name\")[\"Agencies Agency Name\"].count()\n",
    "AgencyName=df[\"Agencies Agency Name\"].value_counts()\n",
    "AgencyName"
   ]
  },
  {
   "cell_type": "code",
   "execution_count": 71,
   "metadata": {},
   "outputs": [],
   "source": [
    "df1=df"
   ]
  },
  {
   "cell_type": "code",
   "execution_count": 72,
   "metadata": {},
   "outputs": [],
   "source": [
    "df1[\"Agencies Agency Name\"].replace({\"AbS - Abode Services\":\"1\", \"BACS - Bay Area Community Services\": \"2\",\n",
    "                                    \"BFHP - Berkeley Food and Housing Project\":\"3\",\n",
    "                           \"BFWC - Building Futures with Women and Children\": \"4\", \n",
    "                                    \"BOSS - Building Opportunities for Self Sufficiency\": \"5\",\n",
    "                           \"CH - Covenant House\":\"6\", \"EOCP - East Oakland Community Project\": \"7\", \"FESCO - Family Emergency Shelter Coalition\":\"8\", \n",
    "                                    \"OD - Operation Dignity\": \"9\", \"ORS - Options Recovery Services\": \"10\", \n",
    "                                    \"ACHCD - Housing and Community Development\":\"11\"\n",
    "                           ,\"FPFY - First Place for Youth\":\"12\", \"CoB - City of Berkeley\":\"13\",\n",
    "                                   \"WDDC - Women's Daytime Drop In Center\":\"14\",\n",
    "                                   \"HAC - Homeless Action Center\":\"15\",\"LMC - Lifelong Medical Care\":\"16\",\n",
    "                                   \"StP - Swords to Plowshares\":\"17\",\"APC - Alameda Point Collaborative\":\"18\",\n",
    "                                   \"FF - Fred Finch Youth Center\":\"19\",\"CE - Coordinated Entry\":\"20\",\n",
    "                                   \"SMC - St. Mary's Center\":\"21\", \"NMCH - Alameda County Network of Mental Health Clients\":\"22\",\n",
    "                                   \"SC - Second Chance\":\"23\",\"SAHA - Satellite Affordable Housing Associates\":\"24\",\n",
    "                                   \"SVdP - St Vincent de Paul\":\"25\",\"EBCRP - East Bay Community Recovery Project\":\"26\",\n",
    "                                   \"YAFF - Yvette A Flunder Foundation\":\"27\",\"BH - Bonita House\":\"28\", \"RPI - Rubicon Programs, Inc.\":\"29\",\n",
    "                                   \"SHP - South Hayward Parish\":\"30\",\"GI - Goodwill Industries of the Greater East Bay\":\"31\",\n",
    "                                   \"EBCLC - East Bay Community Law Center\":\"32\", \"ABH - Anka Behavioral Health, inc.\":\"33\",\n",
    "                                   \"CoO - City of Oakland\":\"34\"}, inplace=True)"
   ]
  },
  {
   "cell_type": "code",
   "execution_count": 73,
   "metadata": {},
   "outputs": [
    {
     "data": {
      "text/plain": [
       "1     11095\n",
       "20     8033\n",
       "3      7309\n",
       "7      6965\n",
       "5      4987\n",
       "9      4891\n",
       "10     3693\n",
       "4      3597\n",
       "14     3228\n",
       "6      2861\n",
       "31     2551\n",
       "18     2052\n",
       "2      1749\n",
       "21     1542\n",
       "29     1512\n",
       "16     1499\n",
       "8      1406\n",
       "11     1343\n",
       "22     1331\n",
       "25     1242\n",
       "12     1141\n",
       "26      857\n",
       "33      797\n",
       "13      728\n",
       "17      410\n",
       "23      273\n",
       "15      175\n",
       "32      173\n",
       "19      125\n",
       "28       88\n",
       "34       73\n",
       "30       37\n",
       "27       31\n",
       "24        7\n",
       "Name: Agencies Agency Name, dtype: int64"
      ]
     },
     "execution_count": 73,
     "metadata": {},
     "output_type": "execute_result"
    }
   ],
   "source": [
    "df1.groupby(\"Agencies Agency Name\")[\"Agencies Agency Name\"].count()\n",
    "AgenciesAgencyName=df1[\"Agencies Agency Name\"].value_counts()\n",
    "AgenciesAgencyName"
   ]
  },
  {
   "cell_type": "code",
   "execution_count": 74,
   "metadata": {},
   "outputs": [
    {
     "name": "stdout",
     "output_type": "stream",
     "text": [
      "['1' '2' '3' '4' '5' '6' '7' '8' '9' '10' '11' '12' '13' '14' '15' '16'\n",
      " '17' '18' '19' '20' '21' '22' '23' '24' '25' '26' '27' '28' '29' '30'\n",
      " '31' '32' '33' '34']\n",
      "<class 'numpy.ndarray'>\n"
     ]
    }
   ],
   "source": [
    "print(df1['Agencies Agency Name'].unique())\n",
    "print(type(df1['Agencies Agency Name'].unique()))"
   ]
  },
  {
   "cell_type": "code",
   "execution_count": 75,
   "metadata": {},
   "outputs": [],
   "source": [
    "df1[\"Clients Race\"].replace({\"White\": \"1\",\"Black or African American\":\"2\",\n",
    "                           \"American Indian or Alaska Native\": \"3\", \"Multi-racial\": \"4\",\n",
    "                           \"Native Hawaiian or Other Pacific Islander\": \"5\", \"Asian\": \"6\", \"Client doesn't Know\": \"7\", \"Client Refused\":\"8\"\n",
    "                           ,\"Data Not Collected\":\"9\" }, inplace=True)"
   ]
  },
  {
   "cell_type": "code",
   "execution_count": 76,
   "metadata": {},
   "outputs": [
    {
     "name": "stdout",
     "output_type": "stream",
     "text": [
      "[0.18201681]\n"
     ]
    }
   ],
   "source": [
    "X = df1[['Clients Race']]\n",
    "y = df1['Agencies Agency Name']\n",
    "\n",
    "regr = linear_model.LinearRegression()\n",
    "regr.fit(X, y)\n",
    "\n",
    "print(regr.coef_)"
   ]
  },
  {
   "cell_type": "code",
   "execution_count": 77,
   "metadata": {},
   "outputs": [
    {
     "name": "stdout",
     "output_type": "stream",
     "text": [
      "[10.67572415]\n"
     ]
    }
   ],
   "source": [
    "X = df1[['Clients Race']]\n",
    "y = df1['Agencies Agency Name']\n",
    "\n",
    "regr = linear_model.LinearRegression()\n",
    "regr.fit(X, y)\n",
    "\n",
    "predictedAgency = regr.predict([[2]])\n",
    "\n",
    "print(predictedAgency)"
   ]
  }
 ],
 "metadata": {
  "kernelspec": {
   "display_name": "Python 3",
   "language": "python",
   "name": "python3"
  },
  "language_info": {
   "codemirror_mode": {
    "name": "ipython",
    "version": 3
   },
   "file_extension": ".py",
   "mimetype": "text/x-python",
   "name": "python",
   "nbconvert_exporter": "python",
   "pygments_lexer": "ipython3",
   "version": "3.8.5"
  }
 },
 "nbformat": 4,
 "nbformat_minor": 4
}
